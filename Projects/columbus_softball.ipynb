{
 "cells": [
  {
   "cell_type": "markdown",
   "metadata": {},
   "source": [
    "Marlene,\n",
    "Please use this as breakout for the Columbus Softball field project.\n",
    "The total contract amount is only 60,000, but the pricing table is below.\n",
    "Total cost will be 62,651.51\n",
    "Please update your quickbooks entry on this project and keep this link as the break down document\n",
    "Thanks!"
   ]
  },
  {
   "cell_type": "markdown",
   "metadata": {},
   "source": [
    "# Notes  \n",
    "--- \n",
    "### Pipe Sizes\n",
    "\n",
    "* 3/4\" PVC pipe will be used in concessions stand and other building structures. Estimated at 450 feet\n",
    "* 1\" Pipe will be used to feed to and from different panels. Estimated 650 feet.\n",
    "* 1-1/4\" pipe will be used from transformer TLSP to panel LSP. Estimated 50 feet. \n",
    "* 2-1/2\" pipe will be used from MDP to feed panel HSA. Estimated 250 feet.   \n",
    "\n",
    "### Wire Sizes\n",
    "\n",
    "* Estimated 6,000 feet of #12 wire\n",
    "* Estimated 1,000 feet of #10 wire\n",
    "* Estimated 5,500 feet of #8 wire\n",
    "* Estimated 2,500 feet of #6 wire\n",
    "* Estimated 1,000 feet of #4 wire\n",
    "* Estimated 1,000 feet of 4/0 wire\n",
    "\n",
    "### Misc. Materials\n",
    "\n",
    "* Rigid 90s for the above pipe sizes. 15 quoted in total\n",
    "* 40 weather-proof duplex receptacles\n",
    "* 40 masonry boxes\n",
    "* 7 10' copper ground rods\n",
    "* 2 20 amp control switches\n"
   ]
  },
  {
   "cell_type": "code",
   "execution_count": 1,
   "metadata": {},
   "outputs": [
    {
     "name": "stdout",
     "output_type": "stream",
     "text": [
      "Material cost with mark-up is 43273.54549999999\n"
     ]
    }
   ],
   "source": [
    "mat_cost = (20274.36+7230.91+10123.90)*1.15\n",
    "print(f\"Material cost with mark-up is {mat_cost}\")"
   ]
  },
  {
   "cell_type": "code",
   "execution_count": 2,
   "metadata": {},
   "outputs": [
    {
     "name": "stdout",
     "output_type": "stream",
     "text": [
      "Total underground length is 1609.3400000000001\n"
     ]
    }
   ],
   "source": [
    "underground = 253+190+161+50+85+513.61+356.73\n",
    "print(f\"Total underground length is {underground}\")"
   ]
  },
  {
   "cell_type": "code",
   "execution_count": 3,
   "metadata": {},
   "outputs": [
    {
     "name": "stdout",
     "output_type": "stream",
     "text": [
      "Total underground cost is 11265.380000000001\n"
     ]
    }
   ],
   "source": [
    "underground_cost = underground*7\n",
    "print(f\"Total underground cost is {underground_cost}\")"
   ]
  },
  {
   "cell_type": "code",
   "execution_count": 4,
   "metadata": {},
   "outputs": [
    {
     "name": "stdout",
     "output_type": "stream",
     "text": [
      "Total labor hours are 480\n"
     ]
    }
   ],
   "source": [
    "labor_hours = (30*4)*4\n",
    "print(f\"Total labor hours are {labor_hours}\")"
   ]
  },
  {
   "cell_type": "code",
   "execution_count": 5,
   "metadata": {},
   "outputs": [
    {
     "name": "stdout",
     "output_type": "stream",
     "text": [
      "Labor hours = 3 guys for 1 month\n"
     ]
    }
   ],
   "source": [
    "print('Labor hours = 3 guys for 1 month')"
   ]
  },
  {
   "cell_type": "code",
   "execution_count": 6,
   "metadata": {},
   "outputs": [
    {
     "name": "stdout",
     "output_type": "stream",
     "text": [
      "Total labor cost at an hourly rate of $57.50 is: 27600.0 \n",
      "Total labor cost at an hourly rate of $67.50 is: 32400.0\n"
     ]
    }
   ],
   "source": [
    "labor_cost_cheap = labor_hours*57.50\n",
    "labor_cost_normal = labor_hours*67.50\n",
    "labor_cost = (\n",
    "    f\"Total labor cost at an hourly rate of $57.50 is: {labor_cost_cheap} \\n\" \n",
    "    f\"Total labor cost at an hourly rate of $67.50 is: {labor_cost_normal}\"\n",
    ")\n",
    "print(labor_cost)"
   ]
  },
  {
   "cell_type": "code",
   "execution_count": 7,
   "metadata": {},
   "outputs": [
    {
     "name": "stdout",
     "output_type": "stream",
     "text": [
      "Total with labor at $57.50 is: 82138.9255\n",
      "Total with labor at $67.50 is: 86938.9255\n"
     ]
    }
   ],
   "source": [
    "total_cheap = mat_cost+underground_cost+labor_cost_cheap\n",
    "print(f\"Total with labor at $57.50 is: {total_cheap}\")\n",
    "total_normal = total_cheap - labor_cost_cheap + labor_cost_normal\n",
    "print(f\"Total with labor at $67.50 is: {total_normal}\")"
   ]
  },
  {
   "cell_type": "code",
   "execution_count": 8,
   "metadata": {},
   "outputs": [],
   "source": [
    "import pandas as pd"
   ]
  },
  {
   "cell_type": "code",
   "execution_count": 9,
   "metadata": {},
   "outputs": [
    {
     "data": {
      "text/html": [
       "<div>\n",
       "<style scoped>\n",
       "    .dataframe tbody tr th:only-of-type {\n",
       "        vertical-align: middle;\n",
       "    }\n",
       "\n",
       "    .dataframe tbody tr th {\n",
       "        vertical-align: top;\n",
       "    }\n",
       "\n",
       "    .dataframe thead th {\n",
       "        text-align: right;\n",
       "    }\n",
       "</style>\n",
       "<table border=\"1\" class=\"dataframe\">\n",
       "  <thead>\n",
       "    <tr style=\"text-align: right;\">\n",
       "      <th></th>\n",
       "      <th>Cost</th>\n",
       "    </tr>\n",
       "  </thead>\n",
       "  <tbody>\n",
       "    <tr>\n",
       "      <th>Material Cost</th>\n",
       "      <td>43273.5455</td>\n",
       "    </tr>\n",
       "    <tr>\n",
       "      <th>Underground Cost</th>\n",
       "      <td>11265.3800</td>\n",
       "    </tr>\n",
       "    <tr>\n",
       "      <th>Labor Hours</th>\n",
       "      <td>480.0000</td>\n",
       "    </tr>\n",
       "    <tr>\n",
       "      <th>Labor at $57.50</th>\n",
       "      <td>27600.0000</td>\n",
       "    </tr>\n",
       "    <tr>\n",
       "      <th>Labor at $67.50</th>\n",
       "      <td>32400.0000</td>\n",
       "    </tr>\n",
       "    <tr>\n",
       "      <th>Total w/ labor at $57.50</th>\n",
       "      <td>82138.9255</td>\n",
       "    </tr>\n",
       "    <tr>\n",
       "      <th>Total w/ labor at $67.50</th>\n",
       "      <td>86938.9255</td>\n",
       "    </tr>\n",
       "  </tbody>\n",
       "</table>\n",
       "</div>"
      ],
      "text/plain": [
       "                                Cost\n",
       "Material Cost             43273.5455\n",
       "Underground Cost          11265.3800\n",
       "Labor Hours                 480.0000\n",
       "Labor at $57.50           27600.0000\n",
       "Labor at $67.50           32400.0000\n",
       "Total w/ labor at $57.50  82138.9255\n",
       "Total w/ labor at $67.50  86938.9255"
      ]
     },
     "execution_count": 9,
     "metadata": {},
     "output_type": "execute_result"
    }
   ],
   "source": [
    "total = {\n",
    "    'Material Cost':mat_cost,\n",
    "    'Underground Cost':underground_cost,\n",
    "    'Labor Hours':labor_hours,\n",
    "    'Labor at $57.50':labor_cost_cheap,\n",
    "    'Labor at $67.50':labor_cost_normal,\n",
    "    'Total w/ labor at $57.50':total_cheap,\n",
    "    'Total w/ labor at $67.50':total_normal\n",
    "}\n",
    "total_df = pd.DataFrame.from_dict(data=total, orient='index', columns = ['Cost'])\n",
    "total_df"
   ]
  },
  {
   "cell_type": "code",
   "execution_count": null,
   "metadata": {},
   "outputs": [],
   "source": []
  },
  {
   "cell_type": "code",
   "execution_count": null,
   "metadata": {},
   "outputs": [],
   "source": []
  }
 ],
 "metadata": {
  "kernelspec": {
   "display_name": "Python 3",
   "language": "python",
   "name": "python3"
  },
  "language_info": {
   "codemirror_mode": {
    "name": "ipython",
    "version": 3
   },
   "file_extension": ".py",
   "mimetype": "text/x-python",
   "name": "python",
   "nbconvert_exporter": "python",
   "pygments_lexer": "ipython3",
   "version": "3.7.7"
  }
 },
 "nbformat": 4,
 "nbformat_minor": 4
}
