{
 "cells": [
  {
   "cell_type": "markdown",
   "metadata": {},
   "source": [
    "# Bay City Airport Hangar Addition"
   ]
  },
  {
   "cell_type": "markdown",
   "metadata": {},
   "source": [
    "### Materials"
   ]
  },
  {
   "cell_type": "markdown",
   "metadata": {},
   "source": [
    "Grounding/Lightning Protection\n",
    "\n",
    "* 650ft of 4/0 bare stranded copper \n",
    "* 31 24\" nickel plated copper blunt tip air terminal\n",
    "* 13 2.5' deep grounding well with 3/4\" x 10'  copperclad ground rod and precast reinforced concrete cover\n",
    "* 300ft of 2/0 bare copper wire\n",
    "* 1200ft of #28/14 class 1 copper wire\n",
    "* 300ft of 1\" schedule 40 pvc\n",
    "---\n",
    "\n",
    "Lighting and outlets materials\n",
    "\n",
    "* 2000ft of 1\" EMT\n",
    "* 6000ft of #10 wire\n",
    "* 13 ceiling mounted motion detector\n",
    "* (20) 20amp gfi duplex receptacles\n",
    "* 22 basic light switches\n",
    "* 11 nema 6-20R receptacle ceiling mounted\n",
    "* 16 24V momentary up/down toggle switch\n",
    "* 1000ft of 3/4\" IMC conduit\n",
    "* 650ft 1.5\" emt\n",
    "* 1500ft of #6\n",
    "* 700 ft of #8\n",
    "* 500ft of 3/0 \n",
    "* 22.25\" x 10.5\" x 17.25\" traffic rated pullbox with steel bolt-down cover"
   ]
  },
  {
   "cell_type": "code",
   "execution_count": null,
   "metadata": {},
   "outputs": [],
   "source": []
  }
 ],
 "metadata": {
  "kernelspec": {
   "display_name": "Python 3",
   "language": "python",
   "name": "python3"
  },
  "language_info": {
   "codemirror_mode": {
    "name": "ipython",
    "version": 3
   },
   "file_extension": ".py",
   "mimetype": "text/x-python",
   "name": "python",
   "nbconvert_exporter": "python",
   "pygments_lexer": "ipython3",
   "version": "3.7.7"
  }
 },
 "nbformat": 4,
 "nbformat_minor": 4
}
