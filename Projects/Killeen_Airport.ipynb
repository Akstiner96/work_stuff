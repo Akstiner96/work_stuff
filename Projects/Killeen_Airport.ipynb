{
 "cells": [
  {
   "cell_type": "markdown",
   "metadata": {},
   "source": [
    "# Proposal"
   ]
  },
  {
   "cell_type": "markdown",
   "metadata": {},
   "source": [
    "WE HEREBY PROPOSE TO FURNISH ALL THE LABOR AND MATERIAL REQUIRED TO COMPLETE THE FOLLOWING PROJECT IN ACCORDANCE WITH THE SCOPE AS LISTED BELOW: KILLEEN CORPORATE HANGAR\n",
    "\n",
    "\n",
    "**SCOPE:** \n",
    "\n",
    "OUTSIDE\n",
    "* CONSTRUCTION OF 2 PAD MOUNTS FOR TRANSFORMERS\n",
    "* CONSTRUCTION ON 1 PAD MOUNT FOR SWITCHGEAR\n",
    "* PROVIDE AND INSTALL (1) 6'x 4' x 3' UTILITY PRIMARY HANDHOLE\n",
    "* PROVIDE AND INSTALL (11) 36\" x 24\" x 24\" TRAFFIC-RATED PRECAST CONCRETE HANDHOLE\n",
    "* PROVIDE AND INSTALL (6) 30\" x 17\" x 24\" TRAFFIC-RATED PRECAST CONCRETE HANDHOLE\n",
    "* PROVIDE AND INSTALL 4\" CONDUIT FOR THE MAIN CONDUCTORS AND THE HANGAR TELECOM FIBER\n",
    "* PROVIDE AND INSTALL 3\" CONDUIT FOR THE HANGAR COPPER CABLES\n",
    "* PROVIDE AND INSTALL 2\" CONDUIT FOR THE SANITARY SEWER PUMP\n",
    "* PROVIDE AND INSTALL 1\" CONDUIT FOR THE SECURITY CAMERA CIRCUIT AND THE STREET LIGHTING\n",
    "* PROVIDE AND INSTALL 3/4\" CONDUIT FOR THE GATE OPERATING SYSTEM\n",
    "* PROVIDE AND INSTALL WIRING FOR THE GATE OPERATING SYSTEM\n",
    "* PROVIDE AND INSTALL FIXTURES S1, S2, AND S3, THEIR POLES, AND THEIR BRANCH CIRCUITS\n",
    "* SAWCUTTING, WHERE NECESSARY\n",
    "---\n",
    "\n",
    "MAIN HANGAR\n",
    "* PROVIDE AND INSTALL ALL LIGHTS AND CONTROLS WITH THE EXCEPTION OF 'HB' FIXTURES WHICH WILL BE PROVIDED BY MUSCO\n",
    "* PROVIDE AND INSTALL BRANCH CIRCUITS FOR ALL 'SPECIAL RECEPTACLES' IN ACCORDANCE WITH SHEET E-101, DATED JUNE 2020\n",
    "* PROVIDE AND INSTALL BRANCH CIRCUITS FOR THE (4) HANGAR MOTORIZED DOOR DRIVE UNITS\n",
    "* PROVIDE AND INSTALL BRANCH CIRCUITS FOR THE (2) 'BIG ASS FANS'\n",
    "* PROVIDE AND INSTALL GROUNDING SYSTEM WITH 1/0 BARE COPPER WIRE AS SHOWN ON SHEET E-101\n",
    "* BRANCH CIRCUITS FOR THE RH AND EF MECHANICAL SYSTEMS\n",
    "* ROUGH IN AND TRIM OF REMAINING OUTLETS\n",
    "\n",
    "PRICES - BASE BID:  \n",
    "\n",
    "PAD-MOUNTED TRANSFORMER FOUNDATION (2) - \\\\$2,400  \n",
    "\n",
    "PAD-MOUNTED SWITCHGEAR FOUNDATION (1) - \\\\$1,200    \n",
    "\n",
    "NON-ENCASED 4\" CONDUIT INSTALLED (1,300 L.F.) - \\\\$16,421.80    \n",
    "\n",
    "NON-ENCASED ELECTRICAL DUCT BANK 4\"C (1,975 L.F.) - \\\\$24,948.50    \n",
    "\n",
    "GALVANIZED RIGID STEEL CONDUIT 4\" 2 SETS (100 L.F) - \\\\$5,600.22    \n",
    "\n",
    "NON-ENCASED ELECTRICAL CONDUIT 4\" WITH SAWCUT PAVEMENT (100 L.F.) - \\\\$3,663.21    \n",
    "\n",
    "NON-ENCASED ELECTRICAL DUCT BANK 3\"C (725 L.F.) - \\\\$7,269.69    \n",
    "\n",
    "NON-ENCASED ELECTRICAL DUCT BANK WITH SAWCUT PAVEMENT (25 L.F.) - \\\\$850.68    \n",
    "\n",
    "NON-ENCASED ELECTRICAL CONDUIT 2\" (1,375 L.F.) - \\\\$11,985.49   \n",
    "\n",
    "NON-ENCASED ELECTRICAL CONDUIT WITH SAWCUT PAVEMENT (35 L.F.) - \\\\$1,144.40  \n",
    "\n",
    "NON-ENCASED ELECTRICAL CONDUIT 1\" (500 L.F.) - \\\\$4,167.28    \n",
    "\n",
    "EXISTING SWITCHGEAR FOUNDATION REMOVAL - \\\\$402.50    \n",
    "\n",
    "EXISTING TRANSFORMER FOUNDATION REMOVAL - \\\\$805.00    \n",
    "\n",
    "UTILITY PRIMARY HANDHOLE - \\\\$2,258.70    \n",
    "\n",
    "TRAFFIC RATED CONCRETE HANDHOLE (11) - \\\\$19,186.25    \n",
    "\n",
    "TRAFFIC RATED CONCRETE HANDHOLE (6) - \\\\$6655.50    \n",
    "\n",
    "LIGHTNING PROTECTION SYSTEM - \\\\$24,803.70  \n",
    "\n",
    "350 KCMIL \n",
    "\n",
    "---\n",
    "TOTAL OUTSIDE PRICE - \\\\$125,354.54  \n",
    "\n",
    "TOTAL HANGAR PRICE - \\\\$295,399.58  \n",
    "\n",
    "---\n",
    "\n",
    "TOTAL BASE BID PRICE - \\\\$420,754.12\n",
    "\n",
    "**DISCLAIMERS AND EXCLUSIONS**\n",
    "* OUTSIDE PRICING DOES NOT INCLUDE ANY GEAR, ONLY THE CONDUIT AND WIRING SPECIFIED IN THE SCOPE\n",
    "* OTHERS WILL BE PROVIDING NEW SWITCHGEAR AND TRANSFORMERS. STARBRITE TO ONLY PROVIDE THE PAD AND CONDUIT CONNECTIONS\n",
    "* PRICE TO BRING SERVICE IS NOT INCLUDED IN THE FINAL PRICE SEEN HERE. ASSUMED TO BE THE ALLOWANCE AS SHOWN ON ADDENDUMS\n",
    "* PRICE DOES NOT INCLUDE ANY BONDING COSTS AND PROPOSAL COMPLETION IS PENDING ON ABILITY TO BE BONDED.\n",
    "* ADDER CORD AND ARC-FLASH STUDY IS ADDED INTO THIS PRICE AT \\\\$9,240. THAT IS THE PRICE FOR ALL 4 BIDS COMBINED.\n",
    "* PRICE FOR THE RENTAL OF ANY EQUIPMENT IS INCLUDED IN THIS PROPOSAL AND WILL NOT BE ADDED TO THE FOLLOWING PROPOSALS. WHICH MAY INCREASE THE COST OF THE ALTERNATES IF WE ARE AWARDED ONE WITHOUT BEING AWARDED THE BASE BID."
   ]
  },
  {
   "cell_type": "markdown",
   "metadata": {},
   "source": [
    "# PROPOSAL - ALTERNATE 1"
   ]
  },
  {
   "cell_type": "markdown",
   "metadata": {},
   "source": [
    "WE HEREBY PROPOSE TO FURNISH ALL THE LABOR AND MATERIALS REQUIRED TO COMPLETE THE FOLLOWING PROJECT IN ACCORDANCE WITH THE SCOPE AS LISTED BELOW: KILLEEN CORPORATE HANGAR - ALTERNATE 1\n",
    "\n",
    "**SCOPE:**\n",
    "\n",
    "* PROVIDE AND INSTALL LIGHTING FIXTURES IN ACCORDANCE WITH THE FIXTURE SCHEDULE AND SHEET E-102\n",
    "* PROVIDE AND INSTALL GEAR PACKAGE AS SHOWN ON SHEET E-103\n",
    "* PROVIDE AND INSTALL BRANCH CIRCUITS FOR MECHANICAL GEAR AS SEEN ON SHEET E-103\n",
    "* PROVIDE AND INSTALL (2) LIGHTING INVERTERS\n",
    "* PROVIDE AND INSTALL LIGHTING CONTROL PANEL\n",
    "* ROUGH-IN CONDUIT AND STUB-UP'S FOR TELECOM\n",
    "* ROUGH-IN AND TRIM FOR OUTLETS\n",
    "\n",
    "TOTAL ALT-1 PRICE - \\\\$148,712.70\n",
    "\n",
    "**DISCLAIMERS AND EXCLUSIONS**\n",
    "* NO WIRING IS PROVIDED IN PRICE FOR ANY TELECOM SERVICES. CONDUIT ONLY IS INCLUDED\n",
    "* NO MECHANICAL GEAR IS PROVIDED IN PRICE, ONLY THE BRANCH CIRCUITS ARE ACCOUNTED FOR.\n",
    "* NO TELECOM TRIM IS PROVIDED IN PRICE.\n",
    "* ALL DISCLAIMERS AND EXCLUSIONS FROM BASE PROPOSAL STILL APPLY HERE. "
   ]
  },
  {
   "cell_type": "markdown",
   "metadata": {},
   "source": [
    "# PROPOSAL - ALTERNATE 2"
   ]
  },
  {
   "cell_type": "markdown",
   "metadata": {},
   "source": [
    "WE HEREBY PROPOSE TO FURNISH ALL THE LABOR AND MATERIALS REQUIRED TO COMPLETE THE FOLLOWING PROJECT IN ACCORDANCE WITH THE SCOPE AS LISTED BELOW: KILLEEN CORPORATE HANGAR - ALTERNATE 1\n",
    "\n",
    "**SCOPE:**\n",
    "\n",
    "* PROVIDE AND INSTALL LIGHTING FIXTURES IN ACCORDANCE WITH THE FIXTURE SCHEDULE AND SHEET E-104\n",
    "* PROVIDE AND INSTALL GEAR PACHAGE AS SHOWN ON SHEET E-105\n",
    "* PROVIDE AND INSTALL BRANCH CIRCUITS FOR MECHANICAL GEAR AS SEEN ON SHEET E-105\n",
    "* ROUGH IN AND TRIM FOR OUTLETS\n",
    "\n",
    "TOTAL ALT-2 PRICE - \\\\$38,057.97\n",
    "\n",
    "**DISCLAIMERS AND EXCLUSIONS** \n",
    "* NO MECHANICAL GEAR IS PROVIDED IN PRICE, ONLY THE BRANCH CIRCUITS ARE ACCOUNTED FOR.\n",
    "* CARD READER DEVICES ARE NOT ACCOUNTED FOR IN PRICE, ASSUMED TO BE PROVIDED BY SECURITY CONTRACTOR.\n",
    "* ALL DISCLAIMERS AND EXCLUSIONS FROM PREVIOUS PROPOSALS STILL APPLY"
   ]
  },
  {
   "cell_type": "markdown",
   "metadata": {},
   "source": [
    "# PROPOSAL - ALTERNATE 3"
   ]
  },
  {
   "cell_type": "markdown",
   "metadata": {},
   "source": [
    "WE HEREBY PROPOSE TO FURNISH ALL THE LABOR AND MATERIALS REQUIRED TO COMPLETE THE FOLLOWING PROJECT IN ACCORDANCE WITH THE SCOPE AS LISTED BELOW: KILLEEN CORPORATE HANGAR - ALTERNATE 1\n",
    "\n",
    "**SCOPE:**\n",
    "\n",
    "* PROVIDE AND INSTALL LIGHTING FIXTURES IN ACCORDANCE WITH THE FIXTURE SCHEDULE AND SHEET E-104\n",
    "* PROVIDE AND INSTALL GEAR PACHAGE AS SHOWN ON SHEET E-105\n",
    "* PROVIDE AND INSTALL BRANCH CIRCUITS FOR MECHANICAL GEAR AS SEEN ON SHEET E-105\n",
    "* ROUGH IN AND TRIM FOR OUTLETS\n",
    "\n",
    "TOTAL ALT-3 PRICE - \\\\$120,294.12\n",
    "\n",
    "**DISCLAIMERS AND EXCLUSIONS**\n",
    "* NO MECHANICAL GEAR IS PROVIDED IN PRICE, ONLY THE BRANCH CIRCUITS ARE ACCOUNTED FOR.\n",
    "* ALL DISCLAIMERS AND EXCLUSIONS FROM THE PREVIOUS PROPOSALS STILL APPLY."
   ]
  },
  {
   "cell_type": "markdown",
   "metadata": {},
   "source": [
    "IGNORE THE FOLLOWING, IT IS MY NOTES AND WORK\n",
    "\n",
    "  *  \n",
    "  *  \n",
    "    \n",
    "  * \n",
    "  *  \n",
    "   \n",
    "  *\n",
    "  *  \n",
    "  \n",
    "  *  \n",
    "  \n",
    "  *  \n",
    "  \n",
    "  *  \n",
    "  \n",
    "  *  \n",
    "    \n",
    "  *  \n",
    "    \n",
    "  *  \n",
    "   \n",
    "  *   \n",
    "  \n",
    "  *  \n",
    "  \n",
    "  *  \n",
    "   \n",
    "  *\n",
    "  *\n",
    "  *\n",
    "  *\n",
    "  *\n",
    "  *\n",
    "  *\n",
    "  *\n",
    "  *\n",
    "  *\n",
    "  *\n",
    "  *\n",
    "  *\n",
    "  *\n",
    "  *\n",
    "  *\n",
    "  *\n",
    "  *\n",
    "  *\n",
    "  *\n",
    "  *\n",
    "  *\n",
    "     \n",
    "       \n",
    "         \n",
    "          \n",
    "           \n",
    "            \n",
    "             \n",
    "              \n",
    "                 \n",
    "                 \n",
    "                 \n",
    "                    \n",
    "                    \n",
    "                     \n",
    "                      \n",
    "                       \n",
    "                         \n",
    "                          \n",
    "                            \n",
    "                             \n",
    "                             \n",
    "\n",
    "\n",
    "\n",
    "\n",
    "\n",
    "\n",
    "\n",
    "\n",
    "\n",
    "\n",
    "\n",
    "\n",
    "\n",
    "\n",
    "\n",
    "\n",
    "\n",
    "\n",
    "\n",
    "\n",
    "\n",
    "* "
   ]
  },
  {
   "cell_type": "code",
   "execution_count": 3,
   "metadata": {},
   "outputs": [],
   "source": [
    "fixture_counts = {\n",
    "    'A1':1,\n",
    "    'A1E':6,\n",
    "    'A1ER':12,\n",
    "    'A1R':3,\n",
    "    'A2':9,\n",
    "    'A2E':4,\n",
    "    'A2ER':5,\n",
    "    'A2R':7,\n",
    "    'A3':28,\n",
    "    'A3E':7,\n",
    "    'A3R':1,\n",
    "    'A4R':1,\n",
    "    'A6ER':5,\n",
    "    'A6R':5,\n",
    "    'HCE':2, #4 more on the alt 2/3\n",
    "    'XA':1,\n",
    "    'XAE':8\n",
    "}"
   ]
  },
  {
   "cell_type": "code",
   "execution_count": 4,
   "metadata": {},
   "outputs": [],
   "source": [
    "base_fixtures = {\n",
    "    'HA':38,\n",
    "    'HAE':4,\n",
    "    'HB':7,\n",
    "    'HCE':2,\n",
    "    'F1':39,\n",
    "    'S1':1,\n",
    "    'S2':1,\n",
    "    'S3':1,\n",
    "    'XAE':4\n",
    "}"
   ]
  },
  {
   "cell_type": "code",
   "execution_count": 5,
   "metadata": {},
   "outputs": [],
   "source": [
    "alt_one = {\n",
    "    'A1':2,\n",
    "    'A1E':6,\n",
    "    'A2':13,\n",
    "    'A2E':5,\n",
    "    'A3':30,\n",
    "    'A3E':6,\n",
    "    'A5':4,\n",
    "    'A6':3,\n",
    "    'A6E':6,\n",
    "    'HCE':5,\n",
    "    'XA':1,\n",
    "    'XAE':5\n",
    "}"
   ]
  },
  {
   "cell_type": "code",
   "execution_count": 6,
   "metadata": {},
   "outputs": [],
   "source": [
    "alt_two = {\n",
    "    'A1ER':4,\n",
    "    'A2R':2,\n",
    "    'A4R':1,\n",
    "    'A6R':2,\n",
    "    'A6ER':2,\n",
    "    'HCE':1,\n",
    "    'XAE':1\n",
    "}"
   ]
  },
  {
   "cell_type": "code",
   "execution_count": 7,
   "metadata": {},
   "outputs": [],
   "source": [
    "alt_three = {\n",
    "    'A1R':4,\n",
    "    'A1ER':8,\n",
    "    'A2R':7,\n",
    "    'A2ER':5,\n",
    "    'A3R':1,\n",
    "    'A4R':1,\n",
    "    'A6R':3,\n",
    "    'A6ER':3,\n",
    "    'HCE':3,\n",
    "    'XAE':3\n",
    "}"
   ]
  },
  {
   "cell_type": "code",
   "execution_count": 8,
   "metadata": {},
   "outputs": [],
   "source": [
    "import pandas as pd"
   ]
  },
  {
   "cell_type": "code",
   "execution_count": 11,
   "metadata": {},
   "outputs": [],
   "source": [
    "base_df = pd.DataFrame.from_dict(base_fixtures, orient='index', columns=['QTY'])"
   ]
  },
  {
   "cell_type": "code",
   "execution_count": 12,
   "metadata": {},
   "outputs": [
    {
     "data": {
      "text/html": [
       "<div>\n",
       "<style scoped>\n",
       "    .dataframe tbody tr th:only-of-type {\n",
       "        vertical-align: middle;\n",
       "    }\n",
       "\n",
       "    .dataframe tbody tr th {\n",
       "        vertical-align: top;\n",
       "    }\n",
       "\n",
       "    .dataframe thead th {\n",
       "        text-align: right;\n",
       "    }\n",
       "</style>\n",
       "<table border=\"1\" class=\"dataframe\">\n",
       "  <thead>\n",
       "    <tr style=\"text-align: right;\">\n",
       "      <th></th>\n",
       "      <th>QTY</th>\n",
       "    </tr>\n",
       "  </thead>\n",
       "  <tbody>\n",
       "    <tr>\n",
       "      <th>HA</th>\n",
       "      <td>38</td>\n",
       "    </tr>\n",
       "    <tr>\n",
       "      <th>HAE</th>\n",
       "      <td>4</td>\n",
       "    </tr>\n",
       "    <tr>\n",
       "      <th>HB</th>\n",
       "      <td>7</td>\n",
       "    </tr>\n",
       "    <tr>\n",
       "      <th>HCE</th>\n",
       "      <td>2</td>\n",
       "    </tr>\n",
       "    <tr>\n",
       "      <th>F1</th>\n",
       "      <td>39</td>\n",
       "    </tr>\n",
       "    <tr>\n",
       "      <th>S1</th>\n",
       "      <td>1</td>\n",
       "    </tr>\n",
       "    <tr>\n",
       "      <th>S2</th>\n",
       "      <td>1</td>\n",
       "    </tr>\n",
       "    <tr>\n",
       "      <th>S3</th>\n",
       "      <td>1</td>\n",
       "    </tr>\n",
       "    <tr>\n",
       "      <th>XAE</th>\n",
       "      <td>4</td>\n",
       "    </tr>\n",
       "  </tbody>\n",
       "</table>\n",
       "</div>"
      ],
      "text/plain": [
       "     QTY\n",
       "HA    38\n",
       "HAE    4\n",
       "HB     7\n",
       "HCE    2\n",
       "F1    39\n",
       "S1     1\n",
       "S2     1\n",
       "S3     1\n",
       "XAE    4"
      ]
     },
     "execution_count": 12,
     "metadata": {},
     "output_type": "execute_result"
    }
   ],
   "source": [
    "base_df"
   ]
  },
  {
   "cell_type": "code",
   "execution_count": 13,
   "metadata": {},
   "outputs": [
    {
     "data": {
      "text/html": [
       "<div>\n",
       "<style scoped>\n",
       "    .dataframe tbody tr th:only-of-type {\n",
       "        vertical-align: middle;\n",
       "    }\n",
       "\n",
       "    .dataframe tbody tr th {\n",
       "        vertical-align: top;\n",
       "    }\n",
       "\n",
       "    .dataframe thead th {\n",
       "        text-align: right;\n",
       "    }\n",
       "</style>\n",
       "<table border=\"1\" class=\"dataframe\">\n",
       "  <thead>\n",
       "    <tr style=\"text-align: right;\">\n",
       "      <th></th>\n",
       "      <th>QTY</th>\n",
       "    </tr>\n",
       "  </thead>\n",
       "  <tbody>\n",
       "    <tr>\n",
       "      <th>A1</th>\n",
       "      <td>2</td>\n",
       "    </tr>\n",
       "    <tr>\n",
       "      <th>A1E</th>\n",
       "      <td>6</td>\n",
       "    </tr>\n",
       "    <tr>\n",
       "      <th>A2</th>\n",
       "      <td>13</td>\n",
       "    </tr>\n",
       "    <tr>\n",
       "      <th>A2E</th>\n",
       "      <td>5</td>\n",
       "    </tr>\n",
       "    <tr>\n",
       "      <th>A3</th>\n",
       "      <td>30</td>\n",
       "    </tr>\n",
       "    <tr>\n",
       "      <th>A3E</th>\n",
       "      <td>6</td>\n",
       "    </tr>\n",
       "    <tr>\n",
       "      <th>A5</th>\n",
       "      <td>4</td>\n",
       "    </tr>\n",
       "    <tr>\n",
       "      <th>A6</th>\n",
       "      <td>3</td>\n",
       "    </tr>\n",
       "    <tr>\n",
       "      <th>A6E</th>\n",
       "      <td>6</td>\n",
       "    </tr>\n",
       "    <tr>\n",
       "      <th>HCE</th>\n",
       "      <td>5</td>\n",
       "    </tr>\n",
       "    <tr>\n",
       "      <th>XA</th>\n",
       "      <td>1</td>\n",
       "    </tr>\n",
       "    <tr>\n",
       "      <th>XAE</th>\n",
       "      <td>5</td>\n",
       "    </tr>\n",
       "  </tbody>\n",
       "</table>\n",
       "</div>"
      ],
      "text/plain": [
       "     QTY\n",
       "A1     2\n",
       "A1E    6\n",
       "A2    13\n",
       "A2E    5\n",
       "A3    30\n",
       "A3E    6\n",
       "A5     4\n",
       "A6     3\n",
       "A6E    6\n",
       "HCE    5\n",
       "XA     1\n",
       "XAE    5"
      ]
     },
     "execution_count": 13,
     "metadata": {},
     "output_type": "execute_result"
    }
   ],
   "source": [
    "one_df = pd.DataFrame.from_dict(alt_one, orient='index', columns=['QTY'])\n",
    "one_df"
   ]
  },
  {
   "cell_type": "code",
   "execution_count": 14,
   "metadata": {},
   "outputs": [
    {
     "data": {
      "text/html": [
       "<div>\n",
       "<style scoped>\n",
       "    .dataframe tbody tr th:only-of-type {\n",
       "        vertical-align: middle;\n",
       "    }\n",
       "\n",
       "    .dataframe tbody tr th {\n",
       "        vertical-align: top;\n",
       "    }\n",
       "\n",
       "    .dataframe thead th {\n",
       "        text-align: right;\n",
       "    }\n",
       "</style>\n",
       "<table border=\"1\" class=\"dataframe\">\n",
       "  <thead>\n",
       "    <tr style=\"text-align: right;\">\n",
       "      <th></th>\n",
       "      <th>QTY</th>\n",
       "    </tr>\n",
       "  </thead>\n",
       "  <tbody>\n",
       "    <tr>\n",
       "      <th>A1ER</th>\n",
       "      <td>4</td>\n",
       "    </tr>\n",
       "    <tr>\n",
       "      <th>A2R</th>\n",
       "      <td>2</td>\n",
       "    </tr>\n",
       "    <tr>\n",
       "      <th>A4R</th>\n",
       "      <td>1</td>\n",
       "    </tr>\n",
       "    <tr>\n",
       "      <th>A6R</th>\n",
       "      <td>2</td>\n",
       "    </tr>\n",
       "    <tr>\n",
       "      <th>A6ER</th>\n",
       "      <td>2</td>\n",
       "    </tr>\n",
       "    <tr>\n",
       "      <th>HCE</th>\n",
       "      <td>1</td>\n",
       "    </tr>\n",
       "    <tr>\n",
       "      <th>XAE</th>\n",
       "      <td>1</td>\n",
       "    </tr>\n",
       "  </tbody>\n",
       "</table>\n",
       "</div>"
      ],
      "text/plain": [
       "      QTY\n",
       "A1ER    4\n",
       "A2R     2\n",
       "A4R     1\n",
       "A6R     2\n",
       "A6ER    2\n",
       "HCE     1\n",
       "XAE     1"
      ]
     },
     "execution_count": 14,
     "metadata": {},
     "output_type": "execute_result"
    }
   ],
   "source": [
    "two_df = pd.DataFrame.from_dict(alt_two, orient='index', columns=['QTY'])\n",
    "two_df"
   ]
  },
  {
   "cell_type": "code",
   "execution_count": 15,
   "metadata": {},
   "outputs": [],
   "source": [
    "three_df = pd.DataFrame.from_dict(alt_three, orient='index', columns=['QTY'])"
   ]
  },
  {
   "cell_type": "code",
   "execution_count": 16,
   "metadata": {},
   "outputs": [
    {
     "data": {
      "text/html": [
       "<div>\n",
       "<style scoped>\n",
       "    .dataframe tbody tr th:only-of-type {\n",
       "        vertical-align: middle;\n",
       "    }\n",
       "\n",
       "    .dataframe tbody tr th {\n",
       "        vertical-align: top;\n",
       "    }\n",
       "\n",
       "    .dataframe thead th {\n",
       "        text-align: right;\n",
       "    }\n",
       "</style>\n",
       "<table border=\"1\" class=\"dataframe\">\n",
       "  <thead>\n",
       "    <tr style=\"text-align: right;\">\n",
       "      <th></th>\n",
       "      <th>QTY</th>\n",
       "    </tr>\n",
       "  </thead>\n",
       "  <tbody>\n",
       "    <tr>\n",
       "      <th>A1R</th>\n",
       "      <td>4</td>\n",
       "    </tr>\n",
       "    <tr>\n",
       "      <th>A1ER</th>\n",
       "      <td>8</td>\n",
       "    </tr>\n",
       "    <tr>\n",
       "      <th>A2R</th>\n",
       "      <td>7</td>\n",
       "    </tr>\n",
       "    <tr>\n",
       "      <th>A2ER</th>\n",
       "      <td>5</td>\n",
       "    </tr>\n",
       "    <tr>\n",
       "      <th>A3R</th>\n",
       "      <td>1</td>\n",
       "    </tr>\n",
       "    <tr>\n",
       "      <th>A4R</th>\n",
       "      <td>1</td>\n",
       "    </tr>\n",
       "    <tr>\n",
       "      <th>A6R</th>\n",
       "      <td>3</td>\n",
       "    </tr>\n",
       "    <tr>\n",
       "      <th>A6ER</th>\n",
       "      <td>3</td>\n",
       "    </tr>\n",
       "    <tr>\n",
       "      <th>HCE</th>\n",
       "      <td>3</td>\n",
       "    </tr>\n",
       "    <tr>\n",
       "      <th>XAE</th>\n",
       "      <td>3</td>\n",
       "    </tr>\n",
       "  </tbody>\n",
       "</table>\n",
       "</div>"
      ],
      "text/plain": [
       "      QTY\n",
       "A1R     4\n",
       "A1ER    8\n",
       "A2R     7\n",
       "A2ER    5\n",
       "A3R     1\n",
       "A4R     1\n",
       "A6R     3\n",
       "A6ER    3\n",
       "HCE     3\n",
       "XAE     3"
      ]
     },
     "execution_count": 16,
     "metadata": {},
     "output_type": "execute_result"
    }
   ],
   "source": [
    "three_df"
   ]
  },
  {
   "cell_type": "code",
   "execution_count": 18,
   "metadata": {},
   "outputs": [],
   "source": [
    "base_df.to_csv('./Base_fixture_count.csv')"
   ]
  },
  {
   "cell_type": "code",
   "execution_count": 19,
   "metadata": {},
   "outputs": [],
   "source": [
    "one_df.to_csv('./alt_one_count.csv')"
   ]
  },
  {
   "cell_type": "code",
   "execution_count": 20,
   "metadata": {},
   "outputs": [],
   "source": [
    "two_df.to_csv('./alt_two_count.csv')"
   ]
  },
  {
   "cell_type": "code",
   "execution_count": 21,
   "metadata": {},
   "outputs": [],
   "source": [
    "three_df.to_csv('./alt_three_count.csv')"
   ]
  },
  {
   "cell_type": "markdown",
   "metadata": {},
   "source": [
    "## Outside/Main Service"
   ]
  },
  {
   "cell_type": "markdown",
   "metadata": {},
   "source": [
    "#### Things to do\n",
    "---\n",
    "* New pad mounted switchgear on the northeast side. Contractor to build pad and connect new and existing conduit after build of pad.\n",
    "* Connect new electrical circuit to sanitary sewer fused disconnect. 720ft run. Requires sawcut of pavement.\n",
    "* New pad mounted transformer on the east side of the hangar. Contractor to construct pad and connect conduits."
   ]
  },
  {
   "cell_type": "markdown",
   "metadata": {},
   "source": [
    "## Base Bid - Main Hangar"
   ]
  },
  {
   "cell_type": "markdown",
   "metadata": {},
   "source": [
    "#### Pipe"
   ]
  },
  {
   "cell_type": "code",
   "execution_count": 7,
   "metadata": {},
   "outputs": [],
   "source": [
    "#for HA fixtures 3/4\" metal pipe\n",
    "ha = 4500\n",
    "#for HB fixtures 1\" metal pipe\n",
    "hb = 1200\n",
    "# hangar motorized main door drive units 1\"C\n",
    "door = 1000\n",
    "# outside fixtures HCE 3/4\"\n",
    "hce = 500\n",
    "# outlets (26) at an average of 150ft, 3/4\"C\n",
    "outlets = 4000\n",
    "#branch circuit for fixtures xae, 3/4\"C\n",
    "xae = 1000\n",
    "# special purpose outlets in 1\"C\n",
    "spo1 = 1000\n",
    "# special purpose outlets in 2\"C\n",
    "spo2 = 500\n",
    "# special outlet in 1.5\" C\n",
    "spo3 = 150\n",
    "# miscellaneous 3/4\" C\n",
    "misc = 2200"
   ]
  },
  {
   "cell_type": "code",
   "execution_count": 8,
   "metadata": {},
   "outputs": [
    {
     "name": "stdout",
     "output_type": "stream",
     "text": [
      "total 3/4 pipe = 12200\n",
      "total 1 inch pipe = 3200\n",
      "total 2 inch pipe = 500\n"
     ]
    }
   ],
   "source": [
    "total_3quarter = ha + hce + outlets + xae + misc\n",
    "total_1inch = hb + door + spo1\n",
    "total_2inch = spo2\n",
    "print(f\"total 3/4 pipe = {total_3quarter}\")\n",
    "print(f\"total 1 inch pipe = {total_1inch}\")\n",
    "print(f\"total 2 inch pipe = {total_2inch}\")"
   ]
  },
  {
   "cell_type": "markdown",
   "metadata": {},
   "source": [
    "#### Wire"
   ]
  },
  {
   "cell_type": "code",
   "execution_count": 5,
   "metadata": {},
   "outputs": [
    {
     "name": "stdout",
     "output_type": "stream",
     "text": [
      "27600\n",
      "10050\n",
      "450\n",
      "1500\n"
     ]
    }
   ],
   "source": [
    "wire12 = (ha + xae + hce + misc + outlets)*3\n",
    "wire10 = (hb + door + spo1 + spo3)*3\n",
    "wire8 = spo3 * 3\n",
    "wire6 = spo2 * 3\n",
    "print(wire12)\n",
    "print(wire10)\n",
    "print(wire8)\n",
    "print(wire6)"
   ]
  },
  {
   "cell_type": "markdown",
   "metadata": {},
   "source": [
    "#### Misc."
   ]
  },
  {
   "cell_type": "code",
   "execution_count": 16,
   "metadata": {},
   "outputs": [],
   "source": [
    "jbox = 106\n",
    "gfi_recept = 35\n",
    "nema18_20R_recept = 9\n",
    "# 500ft of 1/0 bare copper wire\n"
   ]
  },
  {
   "cell_type": "markdown",
   "metadata": {},
   "source": [
    "## Base Bid Outside"
   ]
  },
  {
   "cell_type": "markdown",
   "metadata": {},
   "source": [
    "* 4000ft of 4\"C\n",
    "* 1600ft of 3\"\n",
    "* 1200ft of 2\" C\n",
    "* 1000ft of 1\" C\n",
    "* 800ft of 3/4\"\n",
    "* 10,000ft of #10 wire\n",
    "* 1500ft of outdoor rated copper cable\n",
    "* (11) 24\"W x 36\"L x 24\"D traffic rated H-20 polymer concrete junction box\n",
    "* (5) 17\"W x 30\"L x 24\"D \n",
    "* (1) 4'W x 6'L x 3'D primary handhole for electrical utility"
   ]
  },
  {
   "cell_type": "markdown",
   "metadata": {},
   "source": [
    "## Alternative 1"
   ]
  },
  {
   "cell_type": "markdown",
   "metadata": {},
   "source": [
    "#### Pipe"
   ]
  },
  {
   "cell_type": "code",
   "execution_count": 9,
   "metadata": {},
   "outputs": [
    {
     "name": "stdout",
     "output_type": "stream",
     "text": [
      "total 3/4 inch pipe = 4950\n",
      "total 1 inch pipe = 3950\n"
     ]
    }
   ],
   "source": [
    "# outlets 3/4\" C\n",
    "ol = 2550\n",
    "# lighting fixtures 3/4\"C\n",
    "lights = 2250\n",
    "# AC units 3/4\"C\n",
    "acu = 150\n",
    "# communications stub ups 1\"C\n",
    "comm = 3950\n",
    "\n",
    "total34 = ol + lights + acu\n",
    "total1 = comm\n",
    "# ADD IN 200FT OF 1 1/4\" C FOR THE AHU AT THE TOP OF THE ROOM AND THE ONE IN THE ELECTRICAL ROOM\n",
    "print(f\"total 3/4 inch pipe = {total34}\")\n",
    "print(f\"total 1 inch pipe = {total1}\")"
   ]
  },
  {
   "cell_type": "markdown",
   "metadata": {},
   "source": [
    "#### Wire"
   ]
  },
  {
   "cell_type": "code",
   "execution_count": 15,
   "metadata": {},
   "outputs": [
    {
     "name": "stdout",
     "output_type": "stream",
     "text": [
      "14400\n",
      "150\n",
      "750\n",
      "360\n",
      "600\n"
     ]
    }
   ],
   "source": [
    "numbah12 = (ol + lights)*3\n",
    "numbah10 = acu\n",
    "numbah8 = (acu*4) + 150\n",
    "numbah6 = 120*3\n",
    "numbah4 = 200*3\n",
    "\n",
    "print(numbah12)\n",
    "print(numbah10)\n",
    "print(numbah8)\n",
    "print(numbah6)\n",
    "print(numbah4)"
   ]
  },
  {
   "cell_type": "markdown",
   "metadata": {},
   "source": [
    "#### Misc"
   ]
  },
  {
   "cell_type": "markdown",
   "metadata": {},
   "source": [
    "* 162 jboxes NEMA 1 RATED (5 are nema 4)\n",
    "* 46 gfi receptacles\n",
    "* 4 recepts with usb plug tamper proof\n",
    "* 4 quadplex receptacles\n",
    "* power pole x1\n",
    "* light inverters - IOTA IIS 550 I\n",
    "* 10kva 208V 1ph disconnect\n"
   ]
  },
  {
   "cell_type": "markdown",
   "metadata": {},
   "source": [
    "## Alt 2"
   ]
  },
  {
   "cell_type": "markdown",
   "metadata": {},
   "source": [
    "* 3/4\" pipe = 750ft\n",
    "* 100ft 1\" pipe\n",
    "* 50ft of 1 1/4\"\n",
    "* 15 gfi recepts\n",
    "* 2250ft of #12\n",
    "* 60ft of #4 wire\n",
    "* 20ft of #8 wire"
   ]
  },
  {
   "cell_type": "markdown",
   "metadata": {},
   "source": [
    "## Alt 3"
   ]
  },
  {
   "cell_type": "markdown",
   "metadata": {},
   "source": [
    "* 4000ft of 3/4\" pipe\n",
    "* 12,000ft of #12 wire\n",
    "* 3500ft of 1\" pipe\n",
    "* 600ft of #10 wire\n",
    "* 200ft of #4 wire\n",
    "* 100ft of #8\n",
    "* 40 recepts\n",
    "* 8 recepts with usb\n",
    "* 175 jboxes (7 are nema 4)"
   ]
  },
  {
   "cell_type": "code",
   "execution_count": null,
   "metadata": {},
   "outputs": [],
   "source": []
  }
 ],
 "metadata": {
  "kernelspec": {
   "display_name": "Python 3",
   "language": "python",
   "name": "python3"
  },
  "language_info": {
   "codemirror_mode": {
    "name": "ipython",
    "version": 3
   },
   "file_extension": ".py",
   "mimetype": "text/x-python",
   "name": "python",
   "nbconvert_exporter": "python",
   "pygments_lexer": "ipython3",
   "version": "3.7.7"
  }
 },
 "nbformat": 4,
 "nbformat_minor": 4
}
