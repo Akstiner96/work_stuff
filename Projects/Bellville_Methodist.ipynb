{
 "cells": [
  {
   "cell_type": "markdown",
   "metadata": {},
   "source": [
    "# Proposal"
   ]
  },
  {
   "cell_type": "markdown",
   "metadata": {},
   "source": [
    "WE HEREBY PROPOSE TO FURNISH ALL THE LABOR AND MATERIAL REQUIRED TO COMPLETE THE FOLLOWING PROJECT IN ACCORDANCE WITH THE SCOPE AS LISTED BELOW: BELLVILLE METHODIST CHURCH\n",
    "\n",
    "SCOPE:  \n",
    "* PROVIDE, BUILD, AND INSTALL NEW PANELS HD1, HD2, LD1, LD2, AND LS\n",
    "* ROUTE POWER FROM EXISTING MAIN DISTRIBUTION PANEL TO NEW PANEL HD1\n",
    "* PROVIDE AND INSTALL NEW TRANSFORMERS TD1, TD2, AND TS, SUSPENDED FROM CEILING AS NECESSARY\n",
    "* ROUTE POWER FROM HD1 TO NEW PANELS HD2, LD1, AND LD2 THROUGH XFMR'S AS NECESSARY\n",
    "* PROVIDE AND INSTALL FUSED DISCONNET SWITCHES FOR ALL MECHANICAL GEAR AS SEEN ON PAGE E2.01\n",
    "* PROVIDE AND INSTALL COMPLETE LIGHTING PACKAGE AS LISTED ON THE FIXTURE SCHEDULE AND IN ACCORDANCE WITH THEIR LOCATIONS AS SEEN ON PAGES E3.01 AND MEP\n",
    "* ROUTING OF POWER TO ALL FIXTURES\n",
    "* TRIM OF BUILDING WITH DUPLEX, WEATHER PROOF, AND TAMPER RESISTANT DUPLEX RECEPTACLES AS SHOWN ON PAGE E1.01\n",
    "* TRIM OF BUILDING WITH DATA AND CABLE JACKS AS SHOWN ON PAGE E1.01\n",
    "\n",
    "\n",
    "DISCLAIMERS AND EXCLUSIONS:  \n",
    "* BID DOES NOT INCLUDE ANYTHING REGARDING SMOKE DETECTION OR FIRE ALARM SYSTEM THAT IS SHOWN ON PAGE E0.01.\n",
    "* CONCRETE BORING NECESSARY TO ROUTE POWER UNDERGROUND TO XFMR TS\n",
    "* BID DOES NOT INCLUDE THE PURCHASE OF ANY MECHANICAL MOTORS ONLY THEIR DISCONNECT SWITCHES\n",
    "\n",
    "\n",
    "TOTAL PRICE: $488,427.87"
   ]
  },
  {
   "cell_type": "markdown",
   "metadata": {},
   "source": [
    "### Material List"
   ]
  },
  {
   "cell_type": "code",
   "execution_count": null,
   "metadata": {},
   "outputs": [],
   "source": [
    "dr = 91\n",
    "wpdr = 8\n",
    "#floor box quadplex receptacle\n",
    "fbr = 1\n",
    "#tamper resistant duplex receptacle\n",
    "trdr = 70\n",
    "\n",
    "\n",
    "# 30 amp 3phase NEMA 1 disconnects\n",
    "fuse_dis = 28\n",
    "motor_switches = 40\n",
    "jbox = 563\n",
    "\n",
    "#smoke detector for return air duct\n",
    "smoke_detector = 13\n",
    "\n",
    "#wire lugs\n",
    "fivehunid = 8\n",
    "two_ot = 2\n",
    "one_ot = 16\n",
    "one_lug = 8\n",
    "four_lug = 12\n",
    "six_lug = 12\n",
    "eight_lug = 6\n",
    "\n",
    "rigid_ninety = 72\n",
    "\n",
    "#unistrut\n",
    "unistrut = 100\n"
   ]
  },
  {
   "cell_type": "markdown",
   "metadata": {},
   "source": [
    "### Notes to consider\n",
    "* will have to build and mount transformer rack from ceiling\n",
    "* exclude all duct detectors"
   ]
  },
  {
   "cell_type": "markdown",
   "metadata": {},
   "source": [
    "### Pipe and Wire"
   ]
  },
  {
   "cell_type": "code",
   "execution_count": null,
   "metadata": {},
   "outputs": [],
   "source": [
    "#Main distribution panel to panel HD1\n",
    "#3 sets of (4) #500 KCMIL & #2/0 gnd in 4\" C\n",
    "mdphd = 500\n",
    "\n",
    "# MDP to xfmr TS\n",
    "# (3) #6 & #8 in 1\" C\n",
    "mdpts = 175\n",
    "# xfmr TS to panel LS\n",
    "# (4) #1 & #6 in 1.5\" C\n",
    "tsls = 30\n",
    "\n",
    "# panel HD1 to xfmr TD2\n",
    "#(3) #4 & #8 in 1\" C\n",
    "hdtd_two = 150\n",
    "\n",
    "#xfmr TD2 to panel LD2\n",
    "# (4) #1/0 & #6 in 1.5\" C\n",
    "tdld_two = 35\n",
    "\n",
    "#panel HD1 to xfmr TD1\n",
    "#(3) #4 & #8 in 1\" C\n",
    "hdtd_one = 40\n",
    "\n",
    "# xfmr TD1 to panel LD1\n",
    "# (4) #1/0 & #6 in 1.5\" C\n",
    "tdld_one = 50"
   ]
  },
  {
   "cell_type": "markdown",
   "metadata": {},
   "source": [
    "### Pipe totals"
   ]
  },
  {
   "cell_type": "code",
   "execution_count": null,
   "metadata": {},
   "outputs": [],
   "source": [
    "#total fixture count = 313\n",
    "# 10ft of pipe per fixture\n",
    "three_quarter_pipe = 3130\n",
    "\n",
    "# total 4\" pipe\n",
    "# 3 runs x 500 ft\n",
    "four_inch = 1500\n",
    "\n",
    "# total 1.5\" pipe\n",
    "one_and_half = 200\n",
    "\n",
    "# total 1\"pipe\n",
    "one_inch = 1000"
   ]
  },
  {
   "cell_type": "markdown",
   "metadata": {},
   "source": [
    "### Wire totals"
   ]
  },
  {
   "cell_type": "code",
   "execution_count": null,
   "metadata": {},
   "outputs": [],
   "source": [
    "# 500 kcmil\n",
    "five_hundred = 6000\n",
    "\n",
    "# 2/0\n",
    "two_ought = 1500\n",
    "\n",
    "# 1/0\n",
    "one_ought = 340\n",
    "\n",
    "# #1 wire\n",
    "one = 120\n",
    "\n",
    "# #4 wire\n",
    "four = 570\n",
    "\n",
    "# #6 wire\n",
    "six = 650\n",
    "\n",
    "# #8 wire\n",
    "eight = 365\n",
    "\n",
    "# #10 wire\n",
    "ten = 500\n",
    "\n",
    "# 12 wire\n",
    "twelve = 10000\n"
   ]
  },
  {
   "cell_type": "markdown",
   "metadata": {},
   "source": [
    "# LABOR"
   ]
  },
  {
   "cell_type": "code",
   "execution_count": 1,
   "metadata": {},
   "outputs": [],
   "source": [
    "from functions import*\n",
    "#total hours = 2750"
   ]
  },
  {
   "cell_type": "code",
   "execution_count": 9,
   "metadata": {},
   "outputs": [
    {
     "name": "stdout",
     "output_type": "stream",
     "text": [
      "Labor Rate\n"
     ]
    },
    {
     "name": "stdin",
     "output_type": "stream",
     "text": [
      " 57.50\n"
     ]
    },
    {
     "name": "stdout",
     "output_type": "stream",
     "text": [
      "Number of men\n"
     ]
    },
    {
     "name": "stdin",
     "output_type": "stream",
     "text": [
      " 4\n"
     ]
    },
    {
     "name": "stdout",
     "output_type": "stream",
     "text": [
      "Number of days\n"
     ]
    },
    {
     "name": "stdin",
     "output_type": "stream",
     "text": [
      " 80\n"
     ]
    },
    {
     "name": "stdout",
     "output_type": "stream",
     "text": [
      "Overtime?\n"
     ]
    },
    {
     "name": "stdin",
     "output_type": "stream",
     "text": [
      " yes\n"
     ]
    },
    {
     "name": "stdout",
     "output_type": "stream",
     "text": [
      "Number of Overtime Days?\n"
     ]
    },
    {
     "name": "stdin",
     "output_type": "stream",
     "text": [
      " 5\n"
     ]
    },
    {
     "name": "stdout",
     "output_type": "stream",
     "text": [
      "Total labor price is: 201250.0\n"
     ]
    }
   ],
   "source": [
    "labor_calc()"
   ]
  },
  {
   "cell_type": "code",
   "execution_count": 10,
   "metadata": {},
   "outputs": [
    {
     "data": {
      "text/plain": [
       "80"
      ]
     },
     "execution_count": 10,
     "metadata": {},
     "output_type": "execute_result"
    }
   ],
   "source": [
    "#3600 for boring"
   ]
  },
  {
   "cell_type": "code",
   "execution_count": 11,
   "metadata": {},
   "outputs": [],
   "source": [
    "#5000 for machinery"
   ]
  },
  {
   "cell_type": "code",
   "execution_count": 15,
   "metadata": {},
   "outputs": [],
   "source": [
    "gear_lights = 84.71+17710.55+107765.79+231.07+2678.36"
   ]
  },
  {
   "cell_type": "code",
   "execution_count": 16,
   "metadata": {},
   "outputs": [
    {
     "data": {
      "text/plain": [
       "154164.576"
      ]
     },
     "execution_count": 16,
     "metadata": {},
     "output_type": "execute_result"
    }
   ],
   "source": [
    "gear_lights*1.2"
   ]
  },
  {
   "cell_type": "code",
   "execution_count": 17,
   "metadata": {},
   "outputs": [
    {
     "data": {
      "text/plain": [
       "355414.57999999996"
      ]
     },
     "execution_count": 17,
     "metadata": {},
     "output_type": "execute_result"
    }
   ],
   "source": [
    "154164.58+201250"
   ]
  },
  {
   "cell_type": "code",
   "execution_count": 18,
   "metadata": {},
   "outputs": [
    {
     "data": {
      "text/plain": [
       "133013.219"
      ]
     },
     "execution_count": 18,
     "metadata": {},
     "output_type": "execute_result"
    }
   ],
   "source": [
    "78243.07*1.7"
   ]
  },
  {
   "cell_type": "code",
   "execution_count": 19,
   "metadata": {},
   "outputs": [
    {
     "data": {
      "text/plain": [
       "488427.80000000005"
      ]
     },
     "execution_count": 19,
     "metadata": {},
     "output_type": "execute_result"
    }
   ],
   "source": [
    "355414.58+133013.22"
   ]
  },
  {
   "cell_type": "code",
   "execution_count": null,
   "metadata": {},
   "outputs": [],
   "source": []
  }
 ],
 "metadata": {
  "kernelspec": {
   "display_name": "Python 3",
   "language": "python",
   "name": "python3"
  },
  "language_info": {
   "codemirror_mode": {
    "name": "ipython",
    "version": 3
   },
   "file_extension": ".py",
   "mimetype": "text/x-python",
   "name": "python",
   "nbconvert_exporter": "python",
   "pygments_lexer": "ipython3",
   "version": "3.7.7"
  }
 },
 "nbformat": 4,
 "nbformat_minor": 4
}
