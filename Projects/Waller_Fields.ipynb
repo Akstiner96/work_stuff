{
 "cells": [
  {
   "cell_type": "markdown",
   "metadata": {},
   "source": [
    "WE HEREBY PROPOSE TO FURNISH ALL THE LABOR AND MATERIALS REQUIRED FOR THE COMPLETION OF THE FOLLOWING PROJECT IN ACCORDANCE WITH THE SCOPE AS LISTED BELOW: WALLER HIGH SCHOOL BASEBALL, SOFTBALL, AND TRACK AND FIELD SPORTS LIGHTING INSTALL  \n",
    "\n",
    "SCOPE\n",
    "\n",
    "## BASEBALL: \n",
    "* BUILD AND ERECT 6 80FT LIGHT POLES\n",
    "* BUILD PIER BASES FOR EACH POLE\n",
    "* BUILD AND INSTALL CROSSARMS FOR THE 6 LIGHT POLES\n",
    "* INSTALL 94 EPHESUS LUMASPORT FIXTURES\n",
    "* AIMING OF FIXTURES TO ENSURE PROPER ON-FIELD LUMEN LEVEL  \n",
    "TOTAL: $76,700\n",
    "\n",
    "## SOFTBALL:\n",
    "* BUILD AND ERECT 6 60FT LIGHT POLES\n",
    "* BUILD PIER BASES FOR EACH POLE\n",
    "* BUILD AND INSTALL CROSSARMS FOR THE 6 LIGHT POLES\n",
    "* INSTALL 38 EPHESUS LUMASPORT FIXTURES\n",
    "* AIMING OF FIXTURES TO ENSURE PROPER ON-FIELD LUMEN LEVEL  \n",
    "TOTAL: $44,265\n",
    "\n",
    "## TRACK & FIELD:\n",
    "* BUILD AND ERECT 4 100FT LIGHT POLES\n",
    "* BUILD PIER BASES FOR EACH POLE\n",
    "* BUILD AND INSTALL CROSSARMS FOR THE 4 LIGHT POLES\n",
    "* INSTALL 110 EPHESUS LUMASPORT FIXTURES\n",
    "* AIMING OF FIXTURES TO ENSURE PROPER ON-FIELD LUMEN LEVEL  \n",
    "TOTAL: $97,012\n",
    "\n",
    "#### TOTAL:$217,977\n",
    "\n",
    "## DISCLAIMERS & EXCLUSIONS:\n",
    "* BID PRICE INCLUDES LABOR AND MACHINERY ONLY. ALL FIXTURES, POLES, AND MATERIAL PROVIDED BY OTHERS\n",
    "* PROJECT DESIGN COMPLETED BY OTHERS. STARBRITE ELECTRIC WILL NOT BURDEN LIABILITY IN THE CASE SOMETHING IS CHANGED\n",
    "* AFTER HOURS LABOR TIME WILL BE NEEDED TO AIM FIXTURES\n",
    "* PIER BASE CONSTRUCTION ONLY INCLUDES CONCRETE AND REBAR FOR THE ACTUAL PIER BASE. NO LIGHTNING PROTECTION, WIRING, BASE PLATES, ETC INCLUDED\n",
    "* AIRMESH HUB COMISSIONING NOT INCLUDED IN PRICE\n",
    "* NO FIXTURE MATERIAL SUCH AS SAFETY CABLE, HARDWARE, ETC IS INCLUDED IN PRICE. "
   ]
  },
  {
   "cell_type": "code",
   "execution_count": null,
   "metadata": {},
   "outputs": [],
   "source": []
  }
 ],
 "metadata": {
  "kernelspec": {
   "display_name": "Python 3",
   "language": "python",
   "name": "python3"
  },
  "language_info": {
   "codemirror_mode": {
    "name": "ipython",
    "version": 3
   },
   "file_extension": ".py",
   "mimetype": "text/x-python",
   "name": "python",
   "nbconvert_exporter": "python",
   "pygments_lexer": "ipython3",
   "version": "3.7.7"
  }
 },
 "nbformat": 4,
 "nbformat_minor": 4
}
