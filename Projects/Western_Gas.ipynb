{
 "cells": [
  {
   "cell_type": "markdown",
   "metadata": {},
   "source": [
    "# Notes\n",
    "--- \n",
    "* Plan sheets have job number and address already (put this on the proposal for Marlene)  \n",
    "* 1 600amp main distribution panel and 2 low voltage panels that are 200amp\n",
    "* 150kw transformer needed for step down from 480V to 120/208V\n",
    "* MDP, low-voltage panels, and 150kw transformer in room ELEC-134\n",
    "* No service power or gear specified or included in our proposal (35kva xfmr or anything going to the MDP)\n",
    "* 1 100amp subpanel in room COMP-130\n",
    "* conference room 101 has a floor box (outlet)\n",
    "* lobby has floor box\n",
    "* break room 113 has floor box\n",
    "* COMP-130, controll room, and common hallway backed up by back-up generator\n",
    "* 30kw back-up generator, liquid-cooled, propane powered\n",
    "* 10 power pole for cubicles \n",
    "* septic lift station (220V 30amp circuit)\n",
    "* 2 - 12 1/2 ton A/C\n",
    "* heating is electrical "
   ]
  },
  {
   "cell_type": "code",
   "execution_count": 1,
   "metadata": {},
   "outputs": [],
   "source": [
    "lights = 72\n",
    "track_lights = 18 #all 8ft long\n",
    "recessed_lights = 6\n",
    "coach_lights = 2\n",
    "flood_lights = 8"
   ]
  },
  {
   "cell_type": "code",
   "execution_count": 2,
   "metadata": {},
   "outputs": [
    {
     "name": "stdout",
     "output_type": "stream",
     "text": [
      "Total material cost based on $12/sqft is: 91525.31999999999\n"
     ]
    }
   ],
   "source": [
    "area = 7627.11 #ft\n",
    "mat = 12 #$/ft\n",
    "mat_cost = area*mat\n",
    "print(f\"Total material cost based on $12/sqft is: {mat_cost}\")"
   ]
  },
  {
   "cell_type": "code",
   "execution_count": 3,
   "metadata": {},
   "outputs": [
    {
     "name": "stdout",
     "output_type": "stream",
     "text": [
      "Total length of 3/4 inch pipe is: 2510\n"
     ]
    }
   ],
   "source": [
    "pipe_ft = 105+50+105+105+60+100+165+170+170+25+85+115+140+85+85+115+115+65+170+65+170+45+55+55+90\n",
    "print(f\"Total length of 3/4 inch pipe is: {pipe_ft}\")"
   ]
  },
  {
   "cell_type": "code",
   "execution_count": 5,
   "metadata": {},
   "outputs": [
    {
     "name": "stdout",
     "output_type": "stream",
     "text": [
      "Total length of wire is: 22590\n"
     ]
    }
   ],
   "source": [
    "wire_ft = pipe_ft*9\n",
    "print(f\"Total length of wire is: {wire_ft}\")"
   ]
  },
  {
   "cell_type": "code",
   "execution_count": null,
   "metadata": {},
   "outputs": [],
   "source": []
  }
 ],
 "metadata": {
  "kernelspec": {
   "display_name": "Python 3",
   "language": "python",
   "name": "python3"
  },
  "language_info": {
   "codemirror_mode": {
    "name": "ipython",
    "version": 3
   },
   "file_extension": ".py",
   "mimetype": "text/x-python",
   "name": "python",
   "nbconvert_exporter": "python",
   "pygments_lexer": "ipython3",
   "version": "3.7.6"
  }
 },
 "nbformat": 4,
 "nbformat_minor": 4
}
