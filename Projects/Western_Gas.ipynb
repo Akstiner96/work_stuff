{
 "cells": [
  {
   "cell_type": "markdown",
   "metadata": {},
   "source": [
    "# Proposal\n",
    "---\n",
    "WE HEREBY PROPOSE TO FURNISH ALL THE LABOR AND MATERIALS REQUIRED FOR THE FOLLOWING PROJECT IN ACCORDANCE WITH THE SCOPE AS LISTED BELOW: WESTERN INTERNATIONAL GAS & CYLINDERS INC.\n",
    "\n",
    "SCOPE:\n",
    "* PROVIDE AND INSTALL ONE 600 AMP MAIN DISTRIBUTION PANEL, TWO 200 AMP PANELS, AND ONE 100 AMP SUB-PANEL AS ENTIRE GEAR PACKAGE FOR THE PROJECT\n",
    "* PROVIDE AND INSTALL LIGHTING PACKAGE BASED ON FIXTURE COUNTS SEEN ON PAGE A-6\n",
    "* PROVIDE AND INSTALL ONE 30KW BACKUP GENERATOR THAT WILL FEED INTO THE SUB-PANEL IN ROOM COMP-130\n",
    "* ROUGH IN PIPE AND WIRE FOR PANELS, GENERATOR, LIGHTS, A/C UNITS, WATER HEATER, AND SEPTIC LIFT\n",
    "* TRIM OF BUILDING WITH SWITCHES, RECEPTACLES, ETC.\n",
    "\n",
    "LIGHTING PACKAGE PRICE:  \n",
    "GENERATOR PRICE:  \n",
    "TOTAL:\n",
    "\n",
    "DISCLAIMERS & EXCLUSIONS:\n",
    "* PROJECT PLAN SET DID NOT INCLUDE ANY ELECTRICAL PLANS.\n",
    "* MAIN SERVICE FEEDER WAS ESTIMATED AT 100 FEET. STARBRITE IS NOT RESPONSIBLE FOR ADDITIONAL COSTS IF THE ACTUAL LOCATION IS FURTHER.\n",
    "* NO A/C, HEATING, OR TELECOM INSTALL COSTS ARE INCLUDED IN THIS PRICE. ONLY THE BRANCH CIRCUITS THAT ROUTE TO THE A/C AND WATER HEATER UNITS ARE INCLUDED.\n",
    "* LIGHTING PACKAGE WAS ENGINEERED BY PUTTERMAN SCHAARK & ASSOCIATES. ANY CHANGES BY THE CUSTOMER TO THE PACKAGE THEY PROVIDE WILL REQUIRE AN UPDATED PRICE\n",
    "* PROPOSAL DOES NOT INCLUDE ANY SERVICE POLES OR TRANSFORMERS. PRICE ONLY INCLUDES WHAT IS AFTER THE STEP-DOWN SERVICE TRANSFORMER."
   ]
  },
  {
   "cell_type": "markdown",
   "metadata": {},
   "source": [
    "# Notes\n",
    "--- \n",
    "* Plan sheets have job number and address already (put this on the proposal for Marlene)  \n",
    "* 1 600amp main distribution panel and 2 low voltage panels that are 200amp\n",
    "* 150kw transformer needed for step down from 480V to 120/208V\n",
    "* MDP, low-voltage panels, and 150kw transformer in room ELEC-134\n",
    "* No service power or gear specified or included in our proposal (35kva xfmr or anything going to the MDP)\n",
    "* 1 100amp subpanel in room COMP-130\n",
    "* conference room 101 has a floor box (outlet)\n",
    "* lobby has floor box\n",
    "* break room 113 has floor box\n",
    "* COMP-130, controll room, and common hallway backed up by back-up generator\n",
    "* 30kw back-up generator, liquid-cooled, propane powered\n",
    "* 10 power pole for cubicles \n",
    "* septic lift station (220V 30amp circuit)\n",
    "* 2 - 12 1/2 ton A/C\n",
    "* heating is electrical "
   ]
  },
  {
   "cell_type": "code",
   "execution_count": 1,
   "metadata": {},
   "outputs": [],
   "source": [
    "lights = 72\n",
    "track_lights = 18 #all 8ft long\n",
    "recessed_lights = 6\n",
    "coach_lights = 2\n",
    "flood_lights = 8"
   ]
  },
  {
   "cell_type": "code",
   "execution_count": 2,
   "metadata": {},
   "outputs": [
    {
     "name": "stdout",
     "output_type": "stream",
     "text": [
      "Total material cost based on $17/sqft is: 129660.87\n"
     ]
    }
   ],
   "source": [
    "area = 7627.11 #ft\n",
    "mat = 17 #$/ft\n",
    "mat_cost = area*mat\n",
    "print(f\"Total material cost based on $17/sqft is: {mat_cost}\")"
   ]
  },
  {
   "cell_type": "code",
   "execution_count": 3,
   "metadata": {},
   "outputs": [
    {
     "name": "stdout",
     "output_type": "stream",
     "text": [
      "Total length of 3/4 inch pipe is: 3790\n"
     ]
    }
   ],
   "source": [
    "pipe_ft = 105+50+105+105+60+100+165+170+170+25+85+115+140+85+85+115+115+65+170+65+170+45+55+55+90+180+100+400+(5*100)+100\n",
    "print(f\"Total length of 3/4 inch pipe is: {pipe_ft}\")"
   ]
  },
  {
   "cell_type": "code",
   "execution_count": 4,
   "metadata": {},
   "outputs": [
    {
     "name": "stdout",
     "output_type": "stream",
     "text": [
      "Total length of wire is: 34110\n"
     ]
    }
   ],
   "source": [
    "wire_ft = pipe_ft*9\n",
    "print(f\"Total length of wire is: {wire_ft}\") #700ft of this will be 10wire"
   ]
  },
  {
   "cell_type": "code",
   "execution_count": 5,
   "metadata": {},
   "outputs": [
    {
     "name": "stdout",
     "output_type": "stream",
     "text": [
      "Total 2 inch pipe length is: 300\n",
      "Total 3/0 wire length is: 1200\n"
     ]
    }
   ],
   "source": [
    "#Main Service is 100ft - 3 pipes, 4 wires each, 3/0 wire, 2\" pipe\n",
    "service_pipe = 3*100\n",
    "service_wire = service_pipe*4\n",
    "print(f\"Total 2 inch pipe length is: {service_pipe}\")\n",
    "print(f\"Total 3/0 wire length is: {service_wire}\")"
   ]
  },
  {
   "cell_type": "code",
   "execution_count": 6,
   "metadata": {},
   "outputs": [
    {
     "data": {
      "text/plain": [
       "265"
      ]
     },
     "execution_count": 6,
     "metadata": {},
     "output_type": "execute_result"
    }
   ],
   "source": [
    "jboxes = 72+18+6+2+8+1+5+1+152\n",
    "recept = 152\n",
    "singlepoleswitches = 55\n",
    "rigid90s = 8\n",
    "jboxes"
   ]
  },
  {
   "cell_type": "code",
   "execution_count": 7,
   "metadata": {},
   "outputs": [
    {
     "name": "stdout",
     "output_type": "stream",
     "text": [
      "Total underground cost is: 2400\n"
     ]
    }
   ],
   "source": [
    "ug_rate = 8\n",
    "ug_length = 300\n",
    "ug_cost = ug_rate*ug_length\n",
    "print(f\"Total underground cost is: {ug_cost}\")"
   ]
  },
  {
   "cell_type": "code",
   "execution_count": 8,
   "metadata": {},
   "outputs": [],
   "source": [
    "from functions import *\n",
    "import pandas as pd"
   ]
  },
  {
   "cell_type": "code",
   "execution_count": 9,
   "metadata": {},
   "outputs": [
    {
     "name": "stdout",
     "output_type": "stream",
     "text": [
      "Labor Rate\n"
     ]
    },
    {
     "name": "stdin",
     "output_type": "stream",
     "text": [
      " 57.50\n"
     ]
    },
    {
     "name": "stdout",
     "output_type": "stream",
     "text": [
      "Number of men\n"
     ]
    },
    {
     "name": "stdin",
     "output_type": "stream",
     "text": [
      " 4\n"
     ]
    },
    {
     "name": "stdout",
     "output_type": "stream",
     "text": [
      "Number of days\n"
     ]
    },
    {
     "name": "stdin",
     "output_type": "stream",
     "text": [
      " 30\n"
     ]
    },
    {
     "name": "stdout",
     "output_type": "stream",
     "text": [
      "Overtime?\n"
     ]
    },
    {
     "name": "stdin",
     "output_type": "stream",
     "text": [
      " yes\n"
     ]
    },
    {
     "name": "stdout",
     "output_type": "stream",
     "text": [
      "Number of Overtime Days?\n"
     ]
    },
    {
     "name": "stdin",
     "output_type": "stream",
     "text": [
      " 2\n"
     ]
    },
    {
     "name": "stdout",
     "output_type": "stream",
     "text": [
      "Total labor price is: 75900.0\n"
     ]
    }
   ],
   "source": [
    "labor_calc()"
   ]
  },
  {
   "cell_type": "code",
   "execution_count": 10,
   "metadata": {},
   "outputs": [
    {
     "name": "stdout",
     "output_type": "stream",
     "text": [
      "Total material cost is: 40485.668\n"
     ]
    }
   ],
   "source": [
    "mat_quote = 10451.58\n",
    "gear_quote = 7307.31\n",
    "gen_quote = 19175\n",
    "total_mat = ((mat_quote+gear_quote)*1.2)+gen_quote\n",
    "print(f\"Total material cost is: {total_mat}\")"
   ]
  },
  {
   "cell_type": "code",
   "execution_count": 12,
   "metadata": {},
   "outputs": [],
   "source": [
    "cost_dict = {'Material Cost':[total_mat], 'Generator':[gen_quote], 'Lighting Package':[0], 'Underground':[ug_cost], 'Labor':[75900]}"
   ]
  },
  {
   "cell_type": "code",
   "execution_count": 14,
   "metadata": {},
   "outputs": [
    {
     "data": {
      "text/html": [
       "<div>\n",
       "<style scoped>\n",
       "    .dataframe tbody tr th:only-of-type {\n",
       "        vertical-align: middle;\n",
       "    }\n",
       "\n",
       "    .dataframe tbody tr th {\n",
       "        vertical-align: top;\n",
       "    }\n",
       "\n",
       "    .dataframe thead th {\n",
       "        text-align: right;\n",
       "    }\n",
       "</style>\n",
       "<table border=\"1\" class=\"dataframe\">\n",
       "  <thead>\n",
       "    <tr style=\"text-align: right;\">\n",
       "      <th></th>\n",
       "      <th>Cost</th>\n",
       "    </tr>\n",
       "  </thead>\n",
       "  <tbody>\n",
       "    <tr>\n",
       "      <th>Material Cost</th>\n",
       "      <td>40485.668</td>\n",
       "    </tr>\n",
       "    <tr>\n",
       "      <th>Generator</th>\n",
       "      <td>19175.000</td>\n",
       "    </tr>\n",
       "    <tr>\n",
       "      <th>Lighting Package</th>\n",
       "      <td>0.000</td>\n",
       "    </tr>\n",
       "    <tr>\n",
       "      <th>Underground</th>\n",
       "      <td>2400.000</td>\n",
       "    </tr>\n",
       "    <tr>\n",
       "      <th>Labor</th>\n",
       "      <td>75900.000</td>\n",
       "    </tr>\n",
       "  </tbody>\n",
       "</table>\n",
       "</div>"
      ],
      "text/plain": [
       "                       Cost\n",
       "Material Cost     40485.668\n",
       "Generator         19175.000\n",
       "Lighting Package      0.000\n",
       "Underground        2400.000\n",
       "Labor             75900.000"
      ]
     },
     "execution_count": 14,
     "metadata": {},
     "output_type": "execute_result"
    }
   ],
   "source": [
    "cost_df = pd.DataFrame.from_dict(cost_dict, orient='index', columns=['Cost'])\n",
    "cost_df"
   ]
  },
  {
   "cell_type": "code",
   "execution_count": null,
   "metadata": {},
   "outputs": [],
   "source": []
  }
 ],
 "metadata": {
  "kernelspec": {
   "display_name": "Python 3",
   "language": "python",
   "name": "python3"
  },
  "language_info": {
   "codemirror_mode": {
    "name": "ipython",
    "version": 3
   },
   "file_extension": ".py",
   "mimetype": "text/x-python",
   "name": "python",
   "nbconvert_exporter": "python",
   "pygments_lexer": "ipython3",
   "version": "3.7.6"
  }
 },
 "nbformat": 4,
 "nbformat_minor": 4
}
