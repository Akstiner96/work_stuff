{
 "cells": [
  {
   "cell_type": "markdown",
   "metadata": {},
   "source": [
    "# Proposal"
   ]
  },
  {
   "cell_type": "markdown",
   "metadata": {},
   "source": [
    "We hereby propose to furnish all the labor and materials required for the following project in accordance with the scope as listed below: Windfern Row.\n",
    "\n",
    "**Scope**  \n",
    "\n",
    "* Provide and install lighting package in accordance with the fixture schedule shown on page E2.00  \n",
    "* Trench pathways for lighting branch circuits and their homeruns\n",
    "* Provide and install conduit and wire for lighting branch circuits in accordance with the branch circuit schedule shown on page E1.00.\n",
    "* Provide and replace 4 circuit breakers. 2 on panel HP and 2 on panel LP\n",
    "* Provide and install 10 light poles and pier bases for fixture D\n",
    "\n",
    "\n",
    "**Disclaimers and Exclusions**\n",
    "* Panels HP, LP, the transformer, and the utility meter are all assumed existing and not included in proposal price.    \n",
    "* Lighting branch circuits were priced using the 20/1 and 20/2 wire sizes from the branch circuit schedule.  \n",
    "* Details on surface mounted fixtures not provided. The possible masonry work needed to install them is not included in proposal price.  \n",
    "\n",
    "\n",
    "**Pricing**  \n",
    "* Electrical sleeving under concrete at various locations - \\\\$5,000  \n",
    "* Concealed conduit and #12 AWG conductors - \\\\$10,699.68\n",
    "* Lighting package - \\\\$40,625.46  \n",
    "* Replaced circuit breakers - \\\\$77.40\n",
    "\n",
    "**Total** - \\\\$96,977.00  "
   ]
  },
  {
   "cell_type": "code",
   "execution_count": null,
   "metadata": {},
   "outputs": [],
   "source": []
  },
  {
   "cell_type": "code",
   "execution_count": null,
   "metadata": {},
   "outputs": [],
   "source": []
  },
  {
   "cell_type": "markdown",
   "metadata": {},
   "source": [
    "## Notes"
   ]
  },
  {
   "cell_type": "markdown",
   "metadata": {},
   "source": [
    "Panel HP  \n",
    "1 -   \n",
    "2 -   \n",
    "3 -   \n",
    "4 -   \n",
    "5 -   \n",
    "6 -   \n",
    "7 -   \n",
    "8 -   \n",
    "9 -   \n",
    "10 - 475ft  3#12 in 1/2\" C  \n",
    "11 -   \n",
    "12 - 600ft  3#12 in 1/2\" C  \n",
    "13 -   \n",
    "14 - 665ft  3 #12 in 1/2\" C  \n",
    "15 -   \n",
    "16 -   "
   ]
  },
  {
   "cell_type": "markdown",
   "metadata": {},
   "source": [
    "Panel LP  all 3#12 in 1/2\" C  \n",
    "8 - 665  \n",
    "10 - 665  "
   ]
  },
  {
   "cell_type": "markdown",
   "metadata": {},
   "source": [
    "## Material List  \n",
    "3,100ft of 1/2\" pvc conduit  \n",
    "9,200ft of #12 AWG solid copper  \n",
    "(10) 3/4\"x10' copper clad grounding rod  \n",
    "(40) 10' sticks of rigid 1\"galvanized steel pipe (if possible with black asphaltum paint)  \n",
    "(20) 90 degree connectors for ^  \n",
    "(20) 10' sticks of 3/4\" pvc pipe  \n",
    "(10) 90 degree connectors for ^  \n",
    "150' #6 bare copper wire  \n",
    "4 20amp 2 pole circuit breakers  "
   ]
  },
  {
   "cell_type": "code",
   "execution_count": 1,
   "metadata": {},
   "outputs": [],
   "source": [
    "from functions import*"
   ]
  },
  {
   "cell_type": "code",
   "execution_count": 2,
   "metadata": {},
   "outputs": [
    {
     "name": "stdout",
     "output_type": "stream",
     "text": [
      "Pole Height\n"
     ]
    },
    {
     "name": "stdin",
     "output_type": "stream",
     "text": [
      " 27\n"
     ]
    },
    {
     "name": "stdout",
     "output_type": "stream",
     "text": [
      "Number of Days\n"
     ]
    },
    {
     "name": "stdin",
     "output_type": "stream",
     "text": [
      " 5\n"
     ]
    },
    {
     "name": "stdout",
     "output_type": "stream",
     "text": [
      "Number of Poles\n"
     ]
    },
    {
     "name": "stdin",
     "output_type": "stream",
     "text": [
      " 10\n"
     ]
    },
    {
     "name": "stdout",
     "output_type": "stream",
     "text": [
      "Number of Lights\n"
     ]
    },
    {
     "name": "stdin",
     "output_type": "stream",
     "text": [
      " 10\n"
     ]
    },
    {
     "name": "stdout",
     "output_type": "stream",
     "text": [
      "Pier Base?\n"
     ]
    },
    {
     "name": "stdin",
     "output_type": "stream",
     "text": [
      " yes\n"
     ]
    },
    {
     "name": "stdout",
     "output_type": "stream",
     "text": [
      "Total install price for this project is 33948.0\n"
     ]
    }
   ],
   "source": [
    "ephesus_labor()"
   ]
  },
  {
   "cell_type": "code",
   "execution_count": null,
   "metadata": {},
   "outputs": [],
   "source": [
    "total = {\n",
    "    'lightpoles':\\\\$33,948.00,\n",
    "    'materials':\\\\$\n",
    "}\n",
    "\n",
    "82,997"
   ]
  }
 ],
 "metadata": {
  "kernelspec": {
   "display_name": "Python 3",
   "language": "python",
   "name": "python3"
  },
  "language_info": {
   "codemirror_mode": {
    "name": "ipython",
    "version": 3
   },
   "file_extension": ".py",
   "mimetype": "text/x-python",
   "name": "python",
   "nbconvert_exporter": "python",
   "pygments_lexer": "ipython3",
   "version": "3.7.7"
  }
 },
 "nbformat": 4,
 "nbformat_minor": 4
}
