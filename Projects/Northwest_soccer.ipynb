{
 "cells": [
  {
   "cell_type": "markdown",
   "metadata": {},
   "source": [
    "# Proposal"
   ]
  },
  {
   "cell_type": "markdown",
   "metadata": {},
   "source": [
    "WE HEREBY PROPOSE TO FURNISH ALL THE LABOR AND MATERIALS REQUIRED TO COMPLETE THE FOLLOWING PROJECT IN ACCORDANCE WITH THE SCOPE AS LISTED BELOW: NORTHWEST SOCCER FIELDS\n",
    "\n",
    "---  \n",
    "\n",
    "**SCOPE**\n",
    "\n",
    "* PROVIDE, BUILD, AND INSTALL NEW ELECTRICAL GEAR IN ACCORDANCE WITH THE PANEL SCHEDULE AND ONE-LINE PLANS PROVIDED.\n",
    "* DEMO AND REMOVE (23) TWENTY-THREE EXISTING WOODEN POLES AND THEIR CURRENT LIGHT FIXTURES.  \n",
    "* EXTEND ELECTRICAL DUCT BANK 5 FEET AT EACH NEW POLE SITE AND PROVIDE CONDUIT, WIRE, AND ENCASED CONCRETE FOR EACH.  \n",
    "* BUILD AND INSTALL (23) TWENTY-THREE NEW 45' LIGHT POLES WITH CONCRETE PIER BASES.\n",
    "* INSTALL 110 NEW EPHESUS FIXTURES. PROVIDED BY OTHERS.\n",
    "* AIM AND TEST FIXTURES TO ENSURE PROPER ON-FIELD LUMEN LEVELS.  \n",
    "* FINAL GRADING OF GROUND DUG UP FOR ELECTRICAL WORK  \n",
    "* DIRT HAUL-OFF\n",
    "\n",
    "\n",
    "**DISCLAIMERS AND EXCLUSIONS**\n",
    "* ALL POLES, CROSSARMS, AND FIXTURES PROVIDED BY OTHERS. STARBRITE WILL ONLY BE PROVIDING LABOR TO INSTALL THESE.\n",
    "* ELECTRICAL CONDUIT AND WIRING ASSUMED TO BE UP TO CODE. PRICE ONLY INCLUDES THE PROPOSED EXTRA 5 FEET OF DUCT BANK AT EACH POLE SITE.\n",
    "* PRICE DOES NOT INCLUDE ANY MISCELLANEOUS EPHESUS PRODUCTS SUCH AS THE AIR MESH HUB, COMMISSIONING, HARDWARE, ETC.\n",
    "\n",
    "---  \n",
    "\n",
    "TOTAL - \\$153,777.78"
   ]
  },
  {
   "cell_type": "code",
   "execution_count": null,
   "metadata": {},
   "outputs": [],
   "source": []
  },
  {
   "cell_type": "markdown",
   "metadata": {},
   "source": [
    "## Notes"
   ]
  },
  {
   "cell_type": "markdown",
   "metadata": {},
   "source": [
    "## Demo"
   ]
  },
  {
   "cell_type": "markdown",
   "metadata": {},
   "source": [
    "23 wood poles  \n",
    "x \\\\$150 per pole\n",
    "---\n",
    "\n",
    "\\\\$3,450"
   ]
  },
  {
   "cell_type": "markdown",
   "metadata": {},
   "source": [
    "## Gear"
   ]
  },
  {
   "cell_type": "markdown",
   "metadata": {},
   "source": [
    "\\\\$4,787.34"
   ]
  },
  {
   "cell_type": "markdown",
   "metadata": {},
   "source": [
    "## New Pole Install"
   ]
  },
  {
   "cell_type": "code",
   "execution_count": 2,
   "metadata": {},
   "outputs": [],
   "source": [
    "from functions import*"
   ]
  },
  {
   "cell_type": "code",
   "execution_count": 7,
   "metadata": {},
   "outputs": [
    {
     "name": "stdout",
     "output_type": "stream",
     "text": [
      "Pole Height\n"
     ]
    },
    {
     "name": "stdin",
     "output_type": "stream",
     "text": [
      " 45\n"
     ]
    },
    {
     "name": "stdout",
     "output_type": "stream",
     "text": [
      "Number of Days\n"
     ]
    },
    {
     "name": "stdin",
     "output_type": "stream",
     "text": [
      " 10\n"
     ]
    },
    {
     "name": "stdout",
     "output_type": "stream",
     "text": [
      "Number of Poles\n"
     ]
    },
    {
     "name": "stdin",
     "output_type": "stream",
     "text": [
      " 23\n"
     ]
    },
    {
     "name": "stdout",
     "output_type": "stream",
     "text": [
      "Number of Lights\n"
     ]
    },
    {
     "name": "stdin",
     "output_type": "stream",
     "text": [
      " 110\n"
     ]
    },
    {
     "name": "stdout",
     "output_type": "stream",
     "text": [
      "Pier Base?\n"
     ]
    },
    {
     "name": "stdin",
     "output_type": "stream",
     "text": [
      " yes\n"
     ]
    },
    {
     "name": "stdout",
     "output_type": "stream",
     "text": [
      "Total install price for this project is 84652.0\n"
     ]
    }
   ],
   "source": [
    "ephesus_labor()"
   ]
  },
  {
   "cell_type": "markdown",
   "metadata": {},
   "source": [
    "## Miscellaneous"
   ]
  },
  {
   "cell_type": "markdown",
   "metadata": {},
   "source": [
    "\\\\$100 per pole in miscellaneous material  \n",
    "x 23 poles  \n",
    "---  \n",
    "\n",
    "\\\\$2,300"
   ]
  },
  {
   "cell_type": "markdown",
   "metadata": {},
   "source": [
    "## Grand Total\n",
    "---\n",
    "\n",
    "\\\\$95,189.34"
   ]
  },
  {
   "cell_type": "markdown",
   "metadata": {},
   "source": [
    "# Proposal 2"
   ]
  },
  {
   "cell_type": "markdown",
   "metadata": {},
   "source": [
    "* 73,150 for piers (from concrete sub)\n",
    "* 27,000 for pole and light install  \n",
    "* 10,800 for gear install  \n",
    "* 4,787.34 gear package  \n",
    "* 20,470 for demo  \n",
    "* 9,311.19 misc materials  \n",
    "* 8,259.25 equipment/machinery\n",
    "\n",
    "Total - \\$153,777.78"
   ]
  },
  {
   "cell_type": "code",
   "execution_count": 4,
   "metadata": {},
   "outputs": [
    {
     "name": "stdout",
     "output_type": "stream",
     "text": [
      "Labor Rate\n"
     ]
    },
    {
     "name": "stdin",
     "output_type": "stream",
     "text": [
      " 67.50\n"
     ]
    },
    {
     "name": "stdout",
     "output_type": "stream",
     "text": [
      "Number of men\n"
     ]
    },
    {
     "name": "stdin",
     "output_type": "stream",
     "text": [
      " 4\n"
     ]
    },
    {
     "name": "stdout",
     "output_type": "stream",
     "text": [
      "Number of days\n"
     ]
    },
    {
     "name": "stdin",
     "output_type": "stream",
     "text": [
      " 14\n"
     ]
    },
    {
     "name": "stdout",
     "output_type": "stream",
     "text": [
      "Overtime?\n"
     ]
    },
    {
     "name": "stdin",
     "output_type": "stream",
     "text": [
      " no\n"
     ]
    },
    {
     "name": "stdout",
     "output_type": "stream",
     "text": [
      "Total labor price is: 37800.0\n"
     ]
    }
   ],
   "source": [
    "labor_calc()"
   ]
  },
  {
   "cell_type": "code",
   "execution_count": null,
   "metadata": {},
   "outputs": [],
   "source": []
  }
 ],
 "metadata": {
  "kernelspec": {
   "display_name": "Python 3",
   "language": "python",
   "name": "python3"
  },
  "language_info": {
   "codemirror_mode": {
    "name": "ipython",
    "version": 3
   },
   "file_extension": ".py",
   "mimetype": "text/x-python",
   "name": "python",
   "nbconvert_exporter": "python",
   "pygments_lexer": "ipython3",
   "version": "3.7.7"
  }
 },
 "nbformat": 4,
 "nbformat_minor": 4
}