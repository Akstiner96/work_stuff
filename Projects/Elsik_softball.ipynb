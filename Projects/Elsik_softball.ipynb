{
 "cells": [
  {
   "cell_type": "markdown",
   "metadata": {},
   "source": [
    "# Alief ISD Elsik Softball Field"
   ]
  },
  {
   "cell_type": "markdown",
   "metadata": {},
   "source": [
    "### Notes\n",
    "\n",
    "* 4 60ft poles\n",
    "* 30 Lumasport fixtures\n",
    "* only providing labor"
   ]
  },
  {
   "cell_type": "markdown",
   "metadata": {},
   "source": [
    "## Proposal\n",
    "\n",
    "WE HEREBY PROPOSE TO FURNISH ALL THE LABOR AND MATERIAL REQUIRED TO COMPLETE THE FOLLOWING PROJECT IN ACCORDANCE WITH THE SCOPE AS LISTED BELOW: ALIEF ISD ELSIK HIGH SCHOOL SOFTBALL FIELD\n",
    "\n",
    "\n",
    "SCOPE:\n",
    "* BUILD AND INSTALL 4 60FT LIGHT POLES FURNISHED BY OTHERS\n",
    "* BUILD AND INSTALL CROSSARMS FOR EACH POLE\n",
    "* INSTALL 30 EPHESUS LUMASPORT FIXTURES\n",
    "* AIMING OF FIXTURES TO MEET THE REQUIRED ON FIELD LUMEN LEVELS\n",
    "\n",
    "\n",
    "DISCLAIMERS AND EXCLUSIONS:\n",
    "* THIS PROPOSAL IS FOR LABOR ONLY. NO FIXTURES, POLES, GEAR, WIRE, ETC. IS INCLUDED IN THIS PRICE\n",
    "* DESIGN WAS NOT DONE BY STARBRITE ELECTRIC. STARBRITE WILL NOT BE LIABLE FOR ANY ALTERATIONS REQUIRING A PRICE CHANGE\n",
    "* POLE DESIGN IS AMBIGUOUS. PROPOSAL IS BASED ON DIRECT EMBEDDED POLES. PIER BASES WILL CAUSE AN INCREASE IN PRICE\n",
    "\n",
    "TOTAL:   $47,227.77"
   ]
  },
  {
   "cell_type": "markdown",
   "metadata": {},
   "source": [
    "### Breakdown (do not include this in the proposal)\n",
    "\n",
    "drilling - \\\\$800  \n",
    "machinery - \\\\$5,000  \n",
    "concrete - \\\\$900  \n",
    "total labor - \\\\$33,025  \n",
    "markup on fixtures - $7500"
   ]
  },
  {
   "cell_type": "code",
   "execution_count": null,
   "metadata": {},
   "outputs": [],
   "source": []
  }
 ],
 "metadata": {
  "kernelspec": {
   "display_name": "Python 3",
   "language": "python",
   "name": "python3"
  },
  "language_info": {
   "codemirror_mode": {
    "name": "ipython",
    "version": 3
   },
   "file_extension": ".py",
   "mimetype": "text/x-python",
   "name": "python",
   "nbconvert_exporter": "python",
   "pygments_lexer": "ipython3",
   "version": "3.7.7"
  }
 },
 "nbformat": 4,
 "nbformat_minor": 4
}
