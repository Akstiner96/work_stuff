{
 "cells": [
  {
   "cell_type": "markdown",
   "metadata": {},
   "source": [
    "# Elliott's Store Add-On Breakdown\n",
    "---\n",
    "## Proposal\n",
    "---\n",
    "WE HEREBY PROPOSE TO FURNISH ALL THE LABOR AND MATERIALS REQUIRED FOR THE FOLLOWING PROJECT IN ACCORDANCE WITH THE SCOPE AS LISTED BELOW: ELLIOTT STORE ADD-ON  \n",
    "  \n",
    "SCOPE:  \n",
    "* INSTALL NEW GEAR AS SEEN ON PAGE E02.01\n",
    "* INSTALL NEW FIXTURES AS SEEN ON PAGE E03.01\n",
    "* ROUGH-IN OF BUILDING IN ACCORDANCE WITH THE POWER PLANS (E02.01) AND PANEL SCHEDULE (E70.00)\n",
    "* TRIM OF BUILDING IN ACCORDANCE WITH POWER PLAN\n",
    "* ROUTE POWER TO AND INSTALL DISCONNECTS FOR THE 2 RTU'S\n",
    "* INSTALL THE 2 NEW EXHAUST FANS AND THEIR RELAY/ACCESSORIES\n",
    "* RELOCATION OF POWER POLE  \n",
    "  \n",
    "TOTAL: 37,457.00  \n",
    "\n",
    "DISCLAIMERS & EXCLUSIONS:  \n",
    "* BID PRICE INCLUDES ONLY LABOR. ELLIOTT'S WILL SUPPLY ALL LIGHTS, GEAR, AND MATERIALS FOR THE PROJECT\n",
    "* ANY CHANGES TO THE ABOVE SCOPE OR PROVIDED PLAN SET WILL REQUIRE AN UPDATED PRICING PROPOSAL"
   ]
  },
  {
   "cell_type": "code",
   "execution_count": null,
   "metadata": {},
   "outputs": [],
   "source": []
  },
  {
   "cell_type": "markdown",
   "metadata": {},
   "source": [
    "BELOW THIS IS THE BREAKDOWN. NOT NECESSARY FOR WRITING THE PROPOSAL, ONLY FOR DOCUMENTATION PURPOSES."
   ]
  },
  {
   "cell_type": "code",
   "execution_count": 3,
   "metadata": {},
   "outputs": [],
   "source": [
    "#importing necessary functions\n",
    "from functions import *"
   ]
  },
  {
   "cell_type": "code",
   "execution_count": 4,
   "metadata": {},
   "outputs": [
    {
     "name": "stdout",
     "output_type": "stream",
     "text": [
      "Labor Rate\n"
     ]
    },
    {
     "name": "stdin",
     "output_type": "stream",
     "text": [
      " 67.50\n"
     ]
    },
    {
     "name": "stdout",
     "output_type": "stream",
     "text": [
      "Number of men\n"
     ]
    },
    {
     "name": "stdin",
     "output_type": "stream",
     "text": [
      " 3\n"
     ]
    },
    {
     "name": "stdout",
     "output_type": "stream",
     "text": [
      "Number of days\n"
     ]
    },
    {
     "name": "stdin",
     "output_type": "stream",
     "text": [
      " 14\n"
     ]
    },
    {
     "name": "stdout",
     "output_type": "stream",
     "text": [
      "Overtime?\n"
     ]
    },
    {
     "name": "stdin",
     "output_type": "stream",
     "text": [
      " yes\n"
     ]
    },
    {
     "name": "stdout",
     "output_type": "stream",
     "text": [
      "Number of Overtime Days?\n"
     ]
    },
    {
     "name": "stdin",
     "output_type": "stream",
     "text": [
      " 2\n"
     ]
    },
    {
     "name": "stdout",
     "output_type": "stream",
     "text": [
      "Total labor price is: 34425.0\n"
     ]
    }
   ],
   "source": [
    "labor_calc()"
   ]
  },
  {
   "cell_type": "code",
   "execution_count": null,
   "metadata": {},
   "outputs": [],
   "source": []
  }
 ],
 "metadata": {
  "kernelspec": {
   "display_name": "Python 3",
   "language": "python",
   "name": "python3"
  },
  "language_info": {
   "codemirror_mode": {
    "name": "ipython",
    "version": 3
   },
   "file_extension": ".py",
   "mimetype": "text/x-python",
   "name": "python",
   "nbconvert_exporter": "python",
   "pygments_lexer": "ipython3",
   "version": "3.7.6"
  }
 },
 "nbformat": 4,
 "nbformat_minor": 4
}
