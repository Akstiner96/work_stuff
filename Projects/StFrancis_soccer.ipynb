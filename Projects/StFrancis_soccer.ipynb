{
 "cells": [
  {
   "cell_type": "markdown",
   "metadata": {},
   "source": [
    "# Proposal"
   ]
  },
  {
   "cell_type": "markdown",
   "metadata": {},
   "source": [
    "WE HEREBY PROPOSE TO FURNISH ALL THE LABOR AND MATERIAL REQUIRED TO COMPLETE THE FOLLOWING PROJECT IN ACCORDANCE WITH THE SCOPE AS LISTED BELOW: ST. FRANCIS EPISCOPAL SOCCER FIELD  \n",
    "\n",
    "SCOPE  \n",
    "##### OPTION 1 - 30FC\n",
    "* BUILD AND ERECT 4 70FT LIGHT POLES\n",
    "* BUILD AND INSTALL CROSSARMS FOR ALL 4 POLES ACCORDING TO COOPER LIGHTING SPECIFICATIONS\n",
    "* INSTALL 44 EPHESUS LUMASPORT FIXTURES\n",
    "* AIM FIXTURES TO THE PROPER ON FIELD LUMEN LEVELS\n",
    "\n",
    "##### OPTION 2 - 50FC\n",
    "* BUILD AND ERECT 4 70FT LIGHT POLES\n",
    "* BUILD AND INSTALL CROSSARMS FOR ALL 4 POLES ACCORDING TO COOPER LIGHTING SPECIFICATIONS\n",
    "* INSTALL 64 EPHESUS LUMASPORT FIXTURES\n",
    "* AIM FIXTURES TO THE PROPER ON FIELD LUMEN LEVELS\n",
    "\n",
    "TOTAL OPTION 1: \\\\$39,800  \n",
    "TOTAL OPTION 2: \\\\$48,300\n",
    "\n",
    "#### DISCLAIMERS & EXCLUSIONS\n",
    "* BID PRICE INCLUDES ONLY LABOR, MACHINERY, AND CONCRETE TO SET POLES. ALL OTHER MATERIAL WILL BE PROVIDED BY OTHERS.\n",
    "* ROUTING POWER TO POLES, PIPE AND WIRE, AND ANY NECESSARY ELECTRICAL GEAR NOT INCLUDED\n",
    "* PROJECT WAS NOT DESIGNED BY STARBRITE ELECTRIC AND THUS WILL NOT INCUR ANY COSTS FROM CHANGES TO PLANS"
   ]
  },
  {
   "cell_type": "code",
   "execution_count": null,
   "metadata": {},
   "outputs": [],
   "source": []
  },
  {
   "cell_type": "code",
   "execution_count": null,
   "metadata": {},
   "outputs": [],
   "source": []
  },
  {
   "cell_type": "code",
   "execution_count": null,
   "metadata": {},
   "outputs": [],
   "source": []
  },
  {
   "cell_type": "code",
   "execution_count": null,
   "metadata": {},
   "outputs": [],
   "source": []
  },
  {
   "cell_type": "code",
   "execution_count": null,
   "metadata": {},
   "outputs": [],
   "source": []
  },
  {
   "cell_type": "markdown",
   "metadata": {},
   "source": [
    "# 30 FC"
   ]
  },
  {
   "cell_type": "markdown",
   "metadata": {},
   "source": [
    "### Details\n",
    "* 4 poles\n",
    "* Poles are 70ft tall\n",
    "* Poles are direct embedded\n",
    "* 44 total fixtures"
   ]
  },
  {
   "cell_type": "code",
   "execution_count": 8,
   "metadata": {},
   "outputs": [],
   "source": [
    "import pandas as pd\n",
    "cost_dict = {\n",
    "    'Drilling':'$800',\n",
    "    'Machinery':'$5,500',\n",
    "    'Concrete':'$900',\n",
    "    'Labor - Pole Construction':'$13,900',\n",
    "    'Labor - Light Install':'$18,700',\n",
    "    'TOTAL':'$39,800'\n",
    "}\n",
    "\n",
    "cost_df = pd.DataFrame.from_dict(cost_dict, orient='index')\n",
    "cost_df.columns = ['Price']"
   ]
  },
  {
   "cell_type": "code",
   "execution_count": 9,
   "metadata": {},
   "outputs": [
    {
     "data": {
      "text/html": [
       "<div>\n",
       "<style scoped>\n",
       "    .dataframe tbody tr th:only-of-type {\n",
       "        vertical-align: middle;\n",
       "    }\n",
       "\n",
       "    .dataframe tbody tr th {\n",
       "        vertical-align: top;\n",
       "    }\n",
       "\n",
       "    .dataframe thead th {\n",
       "        text-align: right;\n",
       "    }\n",
       "</style>\n",
       "<table border=\"1\" class=\"dataframe\">\n",
       "  <thead>\n",
       "    <tr style=\"text-align: right;\">\n",
       "      <th></th>\n",
       "      <th>Price</th>\n",
       "    </tr>\n",
       "  </thead>\n",
       "  <tbody>\n",
       "    <tr>\n",
       "      <th>Drilling</th>\n",
       "      <td>$800</td>\n",
       "    </tr>\n",
       "    <tr>\n",
       "      <th>Machinery</th>\n",
       "      <td>$5,500</td>\n",
       "    </tr>\n",
       "    <tr>\n",
       "      <th>Concrete</th>\n",
       "      <td>$900</td>\n",
       "    </tr>\n",
       "    <tr>\n",
       "      <th>Labor - Pole Construction</th>\n",
       "      <td>$13,900</td>\n",
       "    </tr>\n",
       "    <tr>\n",
       "      <th>Labor - Light Install</th>\n",
       "      <td>$18,700</td>\n",
       "    </tr>\n",
       "    <tr>\n",
       "      <th>TOTAL</th>\n",
       "      <td>$39,800</td>\n",
       "    </tr>\n",
       "  </tbody>\n",
       "</table>\n",
       "</div>"
      ],
      "text/plain": [
       "                             Price\n",
       "Drilling                      $800\n",
       "Machinery                   $5,500\n",
       "Concrete                      $900\n",
       "Labor - Pole Construction  $13,900\n",
       "Labor - Light Install      $18,700\n",
       "TOTAL                      $39,800"
      ]
     },
     "execution_count": 9,
     "metadata": {},
     "output_type": "execute_result"
    }
   ],
   "source": [
    "cost_df"
   ]
  },
  {
   "cell_type": "markdown",
   "metadata": {},
   "source": [
    "# 50 FC\n",
    "---\n",
    "### Details\n",
    "* 4 Poles\n",
    "* Poles are 70ft tall\n",
    "* Poles are direct embedded\n",
    "* 64 total fixtures"
   ]
  },
  {
   "cell_type": "code",
   "execution_count": 11,
   "metadata": {},
   "outputs": [
    {
     "data": {
      "text/html": [
       "<div>\n",
       "<style scoped>\n",
       "    .dataframe tbody tr th:only-of-type {\n",
       "        vertical-align: middle;\n",
       "    }\n",
       "\n",
       "    .dataframe tbody tr th {\n",
       "        vertical-align: top;\n",
       "    }\n",
       "\n",
       "    .dataframe thead th {\n",
       "        text-align: right;\n",
       "    }\n",
       "</style>\n",
       "<table border=\"1\" class=\"dataframe\">\n",
       "  <thead>\n",
       "    <tr style=\"text-align: right;\">\n",
       "      <th></th>\n",
       "      <th>Price</th>\n",
       "    </tr>\n",
       "  </thead>\n",
       "  <tbody>\n",
       "    <tr>\n",
       "      <th>Drilling</th>\n",
       "      <td>$800</td>\n",
       "    </tr>\n",
       "    <tr>\n",
       "      <th>Machinery</th>\n",
       "      <td>$5,500</td>\n",
       "    </tr>\n",
       "    <tr>\n",
       "      <th>Concrete</th>\n",
       "      <td>$900</td>\n",
       "    </tr>\n",
       "    <tr>\n",
       "      <th>Labor - Pole Construction</th>\n",
       "      <td>$13,900</td>\n",
       "    </tr>\n",
       "    <tr>\n",
       "      <th>Labor - Light Install</th>\n",
       "      <td>$27,200</td>\n",
       "    </tr>\n",
       "    <tr>\n",
       "      <th>TOTAL</th>\n",
       "      <td>$48,300</td>\n",
       "    </tr>\n",
       "  </tbody>\n",
       "</table>\n",
       "</div>"
      ],
      "text/plain": [
       "                             Price\n",
       "Drilling                      $800\n",
       "Machinery                   $5,500\n",
       "Concrete                      $900\n",
       "Labor - Pole Construction  $13,900\n",
       "Labor - Light Install      $27,200\n",
       "TOTAL                      $48,300"
      ]
     },
     "execution_count": 11,
     "metadata": {},
     "output_type": "execute_result"
    }
   ],
   "source": [
    "cost_dict2 = {\n",
    "    'Drilling':'$800',\n",
    "    'Machinery':'$5,500',\n",
    "    'Concrete':'$900',\n",
    "    'Labor - Pole Construction':'$13,900',\n",
    "    'Labor - Light Install':'$27,200',\n",
    "    'TOTAL':'$48,300'\n",
    "}\n",
    "\n",
    "cost_df2 = pd.DataFrame.from_dict(cost_dict2, orient='index')\n",
    "cost_df2.columns = ['Price']\n",
    "cost_df2"
   ]
  },
  {
   "cell_type": "code",
   "execution_count": null,
   "metadata": {},
   "outputs": [],
   "source": []
  }
 ],
 "metadata": {
  "kernelspec": {
   "display_name": "Python 3",
   "language": "python",
   "name": "python3"
  },
  "language_info": {
   "codemirror_mode": {
    "name": "ipython",
    "version": 3
   },
   "file_extension": ".py",
   "mimetype": "text/x-python",
   "name": "python",
   "nbconvert_exporter": "python",
   "pygments_lexer": "ipython3",
   "version": "3.7.7"
  }
 },
 "nbformat": 4,
 "nbformat_minor": 4
}
