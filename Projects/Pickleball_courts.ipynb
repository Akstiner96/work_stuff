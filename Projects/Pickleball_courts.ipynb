{
 "cells": [
  {
   "cell_type": "markdown",
   "metadata": {},
   "source": [
    "# Pickleball Courts"
   ]
  },
  {
   "cell_type": "markdown",
   "metadata": {},
   "source": [
    "We hereby propose to furnish all the labor and material required to complete the following project in accordance with the scope as listed below."
   ]
  },
  {
   "cell_type": "markdown",
   "metadata": {},
   "source": [
    "**SCOPE**  \n",
    "\n",
    "* PROVIDE, BUILD, AND INSTALL (6) 35' LIGHT POLES  \n",
    "* BUILD AND INSTALL 6 CONCRETE PIER BASES FOR EACH POLE  \n",
    "* PROVIDE AND INSTALL 24 EPHESUS LUMASPORT FIXTURES  \n",
    "* SPOILAGE REMOVAL  \n",
    "\n",
    "\n",
    "**DISCLAIMERS & EXCLUSIONS**  \n",
    "\n",
    "* PROJECT DESIGN DONE BY EATON/EPHESUS. STARBRITE WILL NOT HOLD LIABILITY FOR CHANGES.  \n",
    "* ALL ELECTRICAL CIRCUITS AND GEAR ASSUMED TO BE USABLE. COST TO REPLACE ANY EXISTING ELECTRICAL EQUIPMENT WAS NOT ADDED TO THIS PROPOSAL.  \n",
    "* "
   ]
  }
 ],
 "metadata": {
  "kernelspec": {
   "display_name": "Python 3",
   "language": "python",
   "name": "python3"
  },
  "language_info": {
   "codemirror_mode": {
    "name": "ipython",
    "version": 3
   },
   "file_extension": ".py",
   "mimetype": "text/x-python",
   "name": "python",
   "nbconvert_exporter": "python",
   "pygments_lexer": "ipython3",
   "version": "3.7.7"
  }
 },
 "nbformat": 4,
 "nbformat_minor": 4
}
