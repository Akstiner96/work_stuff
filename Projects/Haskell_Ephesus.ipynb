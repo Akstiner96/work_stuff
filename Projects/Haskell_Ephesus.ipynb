{
 "cells": [
  {
   "cell_type": "markdown",
   "metadata": {},
   "source": [
    "# Haskell HS Track & Field Lighting"
   ]
  },
  {
   "cell_type": "markdown",
   "metadata": {},
   "source": [
    "## Proposal"
   ]
  },
  {
   "cell_type": "markdown",
   "metadata": {},
   "source": [
    "We hereby propose to furnish all the labor and materials required to complete the following project in accordance with the scope as listed below: Haskell High School Track and Field Lighting  \n",
    "\n",
    "\n",
    "**Scope**\n",
    "* Build and install a new 200 amp service for bringing power to light poles  \n",
    "* Trench 1400 foot of proposed underground work to bring power to the service and from service to the poles  \n",
    "* Provide, build, and install four 60 foot light poles with crossarm racks   \n",
    "* Provide and install 32 Ephesus Lumasport light fixtures  \n",
    "* Provide and install lighting contactor on/off switches for each pole  \n",
    "* Aim light fixtures to ensure proper on field lumen levels  \n",
    "\n",
    "\n",
    "**Disclaimers and Exclusions**  \n",
    "* An allowance of \\$6,000 was added for the 200 amp service. That is an estimate and is subject to change.  \n",
    "* 1400 foot of underground work is an estimate based on service location on the northwest restroom/consessions building. Any changes to our proposal of service location will require an updated price.  \n",
    "* Project was designed by Ephesus, Starbrite will not be responsible for any changes to current design plans.  \n",
    "\n",
    "\n",
    "Total - \\$117,875.27"
   ]
  },
  {
   "cell_type": "code",
   "execution_count": 1,
   "metadata": {},
   "outputs": [],
   "source": [
    "from functions import*"
   ]
  },
  {
   "cell_type": "code",
   "execution_count": 6,
   "metadata": {},
   "outputs": [
    {
     "name": "stdout",
     "output_type": "stream",
     "text": [
      "Pole Height\n"
     ]
    },
    {
     "name": "stdin",
     "output_type": "stream",
     "text": [
      " 60\n"
     ]
    },
    {
     "name": "stdout",
     "output_type": "stream",
     "text": [
      "Number of Days\n"
     ]
    },
    {
     "name": "stdin",
     "output_type": "stream",
     "text": [
      " 9\n"
     ]
    },
    {
     "name": "stdout",
     "output_type": "stream",
     "text": [
      "Number of Poles\n"
     ]
    },
    {
     "name": "stdin",
     "output_type": "stream",
     "text": [
      " 4\n"
     ]
    },
    {
     "name": "stdout",
     "output_type": "stream",
     "text": [
      "Number of Lights\n"
     ]
    },
    {
     "name": "stdin",
     "output_type": "stream",
     "text": [
      " 32\n"
     ]
    },
    {
     "name": "stdout",
     "output_type": "stream",
     "text": [
      "Pier Base?\n"
     ]
    },
    {
     "name": "stdin",
     "output_type": "stream",
     "text": [
      " no\n"
     ]
    },
    {
     "name": "stdout",
     "output_type": "stream",
     "text": [
      "Total install price for this project is 14417.5\n"
     ]
    }
   ],
   "source": [
    "ephesus_labor()"
   ]
  },
  {
   "cell_type": "code",
   "execution_count": 4,
   "metadata": {},
   "outputs": [],
   "source": [
    "underground = 1385"
   ]
  },
  {
   "cell_type": "code",
   "execution_count": 11,
   "metadata": {},
   "outputs": [
    {
     "data": {
      "text/plain": [
       "18005"
      ]
     },
     "execution_count": 11,
     "metadata": {},
     "output_type": "execute_result"
    }
   ],
   "source": [
    "underground*13"
   ]
  },
  {
   "cell_type": "code",
   "execution_count": 13,
   "metadata": {},
   "outputs": [],
   "source": [
    "lights = 58396*1.2"
   ]
  },
  {
   "cell_type": "code",
   "execution_count": 14,
   "metadata": {},
   "outputs": [
    {
     "data": {
      "text/plain": [
       "70075.2"
      ]
     },
     "execution_count": 14,
     "metadata": {},
     "output_type": "execute_result"
    }
   ],
   "source": [
    "lights"
   ]
  },
  {
   "cell_type": "markdown",
   "metadata": {},
   "source": [
    "#### Per Diem"
   ]
  },
  {
   "cell_type": "code",
   "execution_count": 12,
   "metadata": {},
   "outputs": [
    {
     "data": {
      "text/plain": [
       "4377.5"
      ]
     },
     "execution_count": 12,
     "metadata": {},
     "output_type": "execute_result"
    }
   ],
   "source": [
    "food = 160*9\n",
    "hotel = 200*9\n",
    "mileage = 350*.25\n",
    "vehicle_cost = 700*1.5\n",
    "per_diem = food + hotel + mileage + vehicle_cost\n",
    "per_diem"
   ]
  },
  {
   "cell_type": "markdown",
   "metadata": {},
   "source": [
    "allowance for 200amp service = 6k (4k material - 2k labor) \n",
    "controls done by single pole lighting contactor switch"
   ]
  }
 ],
 "metadata": {
  "kernelspec": {
   "display_name": "Python 3",
   "language": "python",
   "name": "python3"
  },
  "language_info": {
   "codemirror_mode": {
    "name": "ipython",
    "version": 3
   },
   "file_extension": ".py",
   "mimetype": "text/x-python",
   "name": "python",
   "nbconvert_exporter": "python",
   "pygments_lexer": "ipython3",
   "version": "3.7.7"
  }
 },
 "nbformat": 4,
 "nbformat_minor": 4
}
