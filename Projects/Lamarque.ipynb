{
 "cells": [
  {
   "cell_type": "markdown",
   "metadata": {},
   "source": [
    "# La Marque Middle School"
   ]
  },
  {
   "cell_type": "markdown",
   "metadata": {},
   "source": [
    "## Proposal"
   ]
  },
  {
   "cell_type": "markdown",
   "metadata": {},
   "source": [
    "We hereby propose to furnish all the labor and materials required to complete the following project in accordance with the scope as listed below: La Marque Middle School Sports Facilities.  \n",
    "\n",
    "\n",
    "**SCOPE**  \n",
    "* BUILD AND INSTALL (7) LIGHT POLES, (5) 80 FOOT POLES & (2) 70 FOOT POLES.  \n",
    "* BUILD AND INSTALL PIER BASES FOR EACH POLE IN ACCORDANCE WITH THE FOUNDATION DRAWINGS DETAILED IN THE PROPOSAL PACKAGE.   \n",
    "* BUILD AND INSTALL CROSSARMS FOR EACH POLE IN ACCORDANCE WITH THEIR SPECIFICATION AS DETAILED IN THE PROPOSAL PACKAGE.    \n",
    "* INSTALL (105) EPHESUS \"Lumasport 8\" LIGHT FIXTURES.  \n",
    "* AIMING OF LIGHT FIXTURES TO ENSURE PROPER ON-FIELD LUMEN LEVELS.  \n",
    "\n",
    "\n",
    "**DISCLAIMERS AND EXCLUSIONS**  \n",
    "* ALL DESIGN OF LIGHT/POLE PLACEMENT WAS NOT DONE BY STARBRITE. STARBRITE WILL NOT BE RESPONISBLE FOR COVERING THE COST OF ANY REWORK TO THE DESIGN.  \n",
    "* STARBRITE ELECTRIC WILL NOT BE PROVIDING ANY POLES, FIXTURES, OR MISCELLANEOUS ELECTRICAL MATERIAL. THIS QUOTE IS FOR INSTALL ONLY.  \n",
    "* STARBRITE ELECTRIC WILL NOT BE PROVIDING ANY COMMISSIONING OF EPHESUS GEAR. THAT WILL BE QUOTED AND COMPLETED BY EPHESUS THEMSELVES.  \n",
    "* THE CONCRETE PIER BASES ARE INCLUDED IN THE COST OF THIS PROPOSAL.  \n",
    "* NIGHT TIME HOURS MAY BE NECESSARY IN ORDER TO AIM THE FIXTURES.  \n",
    "\n",
    "\n",
    "**TOTAL**  \n",
    "\\$100,772.75"
   ]
  },
  {
   "cell_type": "code",
   "execution_count": 4,
   "metadata": {},
   "outputs": [
    {
     "name": "stdout",
     "output_type": "stream",
     "text": [
      "Pole Height?\n"
     ]
    },
    {
     "name": "stdin",
     "output_type": "stream",
     "text": [
      " 80\n"
     ]
    },
    {
     "name": "stdout",
     "output_type": "stream",
     "text": [
      "Number of men on the job?\n"
     ]
    },
    {
     "name": "stdin",
     "output_type": "stream",
     "text": [
      " 4\n"
     ]
    },
    {
     "name": "stdout",
     "output_type": "stream",
     "text": [
      "Labor rate?\n"
     ]
    },
    {
     "name": "stdin",
     "output_type": "stream",
     "text": [
      " 67.50\n"
     ]
    },
    {
     "name": "stdout",
     "output_type": "stream",
     "text": [
      "Number of days?\n"
     ]
    },
    {
     "name": "stdin",
     "output_type": "stream",
     "text": [
      " 14\n"
     ]
    },
    {
     "name": "stdout",
     "output_type": "stream",
     "text": [
      "Number of Poles?\n"
     ]
    },
    {
     "name": "stdin",
     "output_type": "stream",
     "text": [
      " 7\n"
     ]
    },
    {
     "name": "stdout",
     "output_type": "stream",
     "text": [
      "Number of Lights?\n"
     ]
    },
    {
     "name": "stdin",
     "output_type": "stream",
     "text": [
      " 105\n"
     ]
    },
    {
     "name": "stdout",
     "output_type": "stream",
     "text": [
      "Pier Base?\n"
     ]
    },
    {
     "name": "stdin",
     "output_type": "stream",
     "text": [
      " yes\n"
     ]
    },
    {
     "name": "stdout",
     "output_type": "stream",
     "text": [
      "Will the piers be subbed out?\n"
     ]
    },
    {
     "name": "stdin",
     "output_type": "stream",
     "text": [
      " yes\n"
     ]
    },
    {
     "name": "stdout",
     "output_type": "stream",
     "text": [
      "Total install price for this project is 58997.5\n"
     ]
    }
   ],
   "source": [
    "from functions import*\n",
    "ephesus_labor()"
   ]
  },
  {
   "cell_type": "markdown",
   "metadata": {},
   "source": [
    "#### Notes\n",
    "* 3,000 per hole for pier bases  \n",
    "* 27,700 added for 10% on ephesus package  \n",
    "* Install price above includes some crane fee but 5,000 was added to cover any misc drilling/crane charges  "
   ]
  },
  {
   "cell_type": "code",
   "execution_count": null,
   "metadata": {},
   "outputs": [],
   "source": []
  }
 ],
 "metadata": {
  "kernelspec": {
   "display_name": "Python 3",
   "language": "python",
   "name": "python3"
  },
  "language_info": {
   "codemirror_mode": {
    "name": "ipython",
    "version": 3
   },
   "file_extension": ".py",
   "mimetype": "text/x-python",
   "name": "python",
   "nbconvert_exporter": "python",
   "pygments_lexer": "ipython3",
   "version": "3.7.7"
  }
 },
 "nbformat": 4,
 "nbformat_minor": 4
}
