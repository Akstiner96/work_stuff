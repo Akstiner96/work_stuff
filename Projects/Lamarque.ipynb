{
 "cells": [
  {
   "cell_type": "markdown",
   "metadata": {},
   "source": [
    "# La Marque Middle School"
   ]
  },
  {
   "cell_type": "markdown",
   "metadata": {},
   "source": [
    "## Proposal"
   ]
  },
  {
   "cell_type": "markdown",
   "metadata": {},
   "source": [
    "We hereby propose to furnish all the labor and materials required to complete the following project in accordance with the scope as listed below: La Marque Middle School Sports Facilities.  \n",
    "\n",
    "\n",
    "**SCOPE BASE BID**  \n",
    "* BUILD AND INSTALL (2) SP5 POLES CONTAININT (3) E1, (9) E3, (1) E4, (2) E5 PER POLE  \n",
    "* BUILD AND INSTALL (1) SP3 TRACK SIDE ONLY CONTAINING (3)E1, (1)E2, (9)E3, (1)E4, (2)E5  \n",
    "* BUILD AND INSTALL (1) SP4 TRACK SIDE ONLY CONTAINING (3)E1, (1)E2, (9)E3, (1)E4, (2)E5\n",
    "* BUILD AND INSTALL PIER BASES FOR EACH POLE IN ACCORDANCE WITH THE FOUNDATION DRAWINGS DETAILED IN THE PROPOSAL PACKAGE.   \n",
    "* BUILD AND INSTALL CROSSARMS FOR EACH POLE IN ACCORDANCE WITH THEIR SPECIFICATION AS DETAILED IN THE PROPOSAL PACKAGE.     \n",
    "* AIMING OF LIGHT FIXTURES TO ENSURE PROPER ON-FIELD LUMEN LEVELS.  \n",
    "\n",
    "\n",
    "**DISCLAIMERS AND EXCLUSIONS**  \n",
    "* ALL DESIGN OF LIGHT/POLE PLACEMENT WAS NOT DONE BY STARBRITE. STARBRITE WILL NOT BE RESPONISBLE FOR COVERING THE COST OF ANY REWORK TO THE DESIGN.  \n",
    "* STARBRITE ELECTRIC WILL NOT BE PROVIDING ANY POLES, FIXTURES, OR MISCELLANEOUS ELECTRICAL MATERIAL. THIS QUOTE IS FOR INSTALL ONLY.  \n",
    "* PROJECT PRICE FOR SPORTS LIGHTING ONLY. NO OTHER ELECTRICAL WORK FOR THE SITE WILL BE COMPLETED UNDER THIS PROPOSAL.  \n",
    "* STARBRITE ELECTRIC WILL NOT BE PROVIDING ANY COMMISSIONING OF EPHESUS GEAR. THAT WILL BE QUOTED AND COMPLETED BY EPHESUS THEMSELVES.  \n",
    "* THE CONCRETE PIER BASES ARE INCLUDED IN THE COST OF THIS PROPOSAL.  \n",
    "* NIGHT TIME HOURS MAY BE NECESSARY IN ORDER TO AIM THE FIXTURES.  \n",
    "\n",
    "\n",
    "**TOTAL**  \n",
    "\\$57,360.92  \n",
    "\n",
    "\n",
    "\n",
    "**SCOPE - ALTERNATE E1.01**  \n",
    "* BUILD AND INSTALL (2) SP2 POLES CONTAINING (1)E3, (5)E4, (1)E5 PER POLE  \n",
    "* BUILD AND INSTALL (1) SP1 POLE CONTAINING (2)E2, (8)E3, (2)E5  \n",
    "* ADD FOLLOWING HEADS TO THE BACK OF POLE SP3 - (3)E2, (4)E3, (2)E4  \n",
    "* ADD FOLLOWING HEADS TO THE BACK OF POLE SP4 - (2)E2, (4)E3, (2)E4  \n",
    "\n",
    "**DISCLAIMERS AND EXCLUSIONS**\n",
    "* ALL DESIGN OF LIGHT/POLE PLACEMENT WAS NOT DONE BY STARBRITE. STARBRITE WILL NOT BE RESPONSIBLE FOR COVERING THE COST OF ANY REWORK TO THE DESIGN.  \n",
    "* STARBRITE ELECTRIC WILL NOT BE PROVIDING ANY POLES, FIXTURES, OR MISCELLANEOUS ELECTRICAL MATERIAL. THIS QUOTE IS FOR INSTALL ONLY.  \n",
    "* PROJECT PRICE FOR SPORTS LIGHTING ONLY. NO OTHER ELECTRICAL WORK FOR THE SITE WILL BE COMPLETED UNDER THIS PROPOSAL.  \n",
    "* STARBRITE ELECTRIC WILL NOT BE PROVIDING ANY COMMISSIONING OF EPHESUS GEAR. THAT WILL BE QUOTED AND COMPLETED BY EPHESUS THEMSELVES.  \n",
    "* THE CONCRETE PIER BASES ARE INCLUDED IN THE COST OF THIS PROPOSAL.  \n",
    "* NIGHT NIME HOURS MAY BE NECESSARY IN ORDER TO AIM THE FIXTURES.  \n",
    "* PRICE OF ALTERNATE DEPENDENT ON COMPLETION OF BASE BID.  \n",
    "\n",
    "**TOTAL - ALTERNATE E1.01** \n",
    "\\$43,165.54\n",
    "\n",
    "**SCOPE - ALTERNATE E1.02**  \n",
    "* ADD (2) SP2 POLES CONTAINING (1)E3, (5)E4, (1)E5 PER POLE  \n",
    "* ADD FOLLOWING HEADS TO THE BACK OF POLE SP3 - (3)E2, (4)E3, (2)E4  \n",
    "* ADD FOLLOWING HEADS TO THE BACK OF POLE SP4 - (2)E2, (4)E3, (2)E4  \n",
    "\n",
    "**DISCLAIMERS AND EXCLUSIONS**  \n",
    "* SAME AS ALTERNATE BID ABOVE\n",
    "\n",
    "**TOTAL - ALTERNATE E1.02**\n",
    "\\$37,484.36\n"
   ]
  },
  {
   "cell_type": "code",
   "execution_count": 4,
   "metadata": {},
   "outputs": [
    {
     "name": "stdout",
     "output_type": "stream",
     "text": [
      "Pole Height?\n"
     ]
    },
    {
     "name": "stdin",
     "output_type": "stream",
     "text": [
      " 80\n"
     ]
    },
    {
     "name": "stdout",
     "output_type": "stream",
     "text": [
      "Number of men on the job?\n"
     ]
    },
    {
     "name": "stdin",
     "output_type": "stream",
     "text": [
      " 4\n"
     ]
    },
    {
     "name": "stdout",
     "output_type": "stream",
     "text": [
      "Labor rate?\n"
     ]
    },
    {
     "name": "stdin",
     "output_type": "stream",
     "text": [
      " 67.50\n"
     ]
    },
    {
     "name": "stdout",
     "output_type": "stream",
     "text": [
      "Number of days?\n"
     ]
    },
    {
     "name": "stdin",
     "output_type": "stream",
     "text": [
      " 14\n"
     ]
    },
    {
     "name": "stdout",
     "output_type": "stream",
     "text": [
      "Number of Poles?\n"
     ]
    },
    {
     "name": "stdin",
     "output_type": "stream",
     "text": [
      " 7\n"
     ]
    },
    {
     "name": "stdout",
     "output_type": "stream",
     "text": [
      "Number of Lights?\n"
     ]
    },
    {
     "name": "stdin",
     "output_type": "stream",
     "text": [
      " 105\n"
     ]
    },
    {
     "name": "stdout",
     "output_type": "stream",
     "text": [
      "Pier Base?\n"
     ]
    },
    {
     "name": "stdin",
     "output_type": "stream",
     "text": [
      " yes\n"
     ]
    },
    {
     "name": "stdout",
     "output_type": "stream",
     "text": [
      "Will the piers be subbed out?\n"
     ]
    },
    {
     "name": "stdin",
     "output_type": "stream",
     "text": [
      " yes\n"
     ]
    },
    {
     "name": "stdout",
     "output_type": "stream",
     "text": [
      "Total install price for this project is 58997.5\n"
     ]
    }
   ],
   "source": [
    "from functions import*\n",
    "ephesus_labor()"
   ]
  },
  {
   "cell_type": "markdown",
   "metadata": {},
   "source": [
    "#### Notes\n",
    "* 3,000 per hole for pier bases  \n",
    "* 27,700 added for 10% on ephesus package  \n",
    "* Install price above includes some crane fee but 5,000 was added to cover any misc drilling/crane charges  "
   ]
  },
  {
   "cell_type": "code",
   "execution_count": null,
   "metadata": {},
   "outputs": [],
   "source": []
  }
 ],
 "metadata": {
  "kernelspec": {
   "display_name": "Python 3",
   "language": "python",
   "name": "python3"
  },
  "language_info": {
   "codemirror_mode": {
    "name": "ipython",
    "version": 3
   },
   "file_extension": ".py",
   "mimetype": "text/x-python",
   "name": "python",
   "nbconvert_exporter": "python",
   "pygments_lexer": "ipython3",
   "version": "3.7.7"
  }
 },
 "nbformat": 4,
 "nbformat_minor": 4
}