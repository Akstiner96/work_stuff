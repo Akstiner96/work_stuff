{
 "cells": [
  {
   "cell_type": "markdown",
   "metadata": {},
   "source": [
    "# Granite Tooling Project"
   ]
  },
  {
   "cell_type": "markdown",
   "metadata": {},
   "source": [
    "## Proposal"
   ]
  },
  {
   "cell_type": "markdown",
   "metadata": {},
   "source": [
    "We hereby propose to furnish all the labor and materials required to complete the following project in accordance with the scope as listed below: Granite Tooling New Warehouse & Office  \n",
    "\n",
    "**Scope**  \n",
    "* Provide and install weatherhead and drop pole for main service connection  \n",
    "* Trench underground and provide/install 4\" pipe and 750kcmil wire for main service connection   \n",
    "* Provide and install 6 30' poles and their corresponding light fixtures  \n",
    "* Trench underground and provide/install pipe and wire for site lighting connection  \n",
    "* Provide and install complete gear package according to provided one-line on page E-4 dated 5/5/20    \n",
    "* Provide and install complete lighting package in accordance with fixture schedule and quantities shown on pages E-1 and E-2 dated 5/5/20  \n",
    "* Rough-in of warehouse and all floors of office building  \n",
    "* Branch circuits for all mechanical and plumbing gear shown on panel schedule  \n",
    "* Trim of shown receptacles and switches  \n",
    "\n",
    "**Disclaimers and Exclusions**  \n",
    "* No specifications for Division 26 provided. Any changes that must be made to the above scope that is not shown on the plan set will require an additional charge.  \n",
    "* No mechanical or plumbing units are included in this price, only their connecting branch circuits are accounted for.   \n",
    "* Price is assumed that the proposed site lighting and main electrical service will not require any grading or concrete demo.  "
   ]
  },
  {
   "cell_type": "markdown",
   "metadata": {},
   "source": [
    "## Breakdown"
   ]
  },
  {
   "cell_type": "markdown",
   "metadata": {},
   "source": [
    "Lighting and Gear Packages - \\\\$40,791.59  \n",
    "Site lighting package - \\\\$11,868.64  \n",
    "Pipe/Wire/Misc materials -   \n",
    "Site lighting pier bases and install labor - \\\\$19,826  \n",
    "Underground work @ \\\\$6/foot - \\\\$3,700  \n",
    "Labor for the rest of the project - 3 men @ 57.50 & 1,350 hours - \\\\$90,560  \n",
    "\n",
    "Estimated Total - \\\\$166,746.23 + ~10,000 for pipe/wire = 176,746.23  "
   ]
  },
  {
   "cell_type": "markdown",
   "metadata": {},
   "source": [
    "### Main Service"
   ]
  },
  {
   "cell_type": "markdown",
   "metadata": {},
   "source": [
    "Service pole to electrical service is 350ft  \n",
    "2 sets of 4\" pvc conduit  \n",
    "Each run with 4 750kcmil aluminum wire  \n",
    "\n",
    "Materials:  \n",
    "* 800 Amp weatherhead  \n",
    "* drop pole  \n",
    "* 800 amp tap box  \n",
    "* #2/0 ground rod  \n",
    "* 50ft x 4#3/0 & #6 in 2\" C\n",
    "* 50ft x 3#4 & #6 in 1\" C\n",
    "* 30ft x 3#1/0 & #4 in 2\""
   ]
  },
  {
   "cell_type": "markdown",
   "metadata": {},
   "source": [
    "#14 wire - 2,400ft  \n",
    "#12 wire - 22,000ft  \n",
    "#10 wire - 2,250ft  \n",
    "#8 wire - 1,000ft   \n",
    "#6 wire - 50ft  \n",
    "#4 wire - 350ft  \n",
    "#3/0 wire - 250ft  \n",
    "#1/0 wire - 150ft  \n",
    "750kcmil al - 2,600ft  \n",
    "  \n",
    "3/4\" PVC - 9,000ft  \n",
    "1\" PVC - 1,500ft  \n",
    "2\" PVC - 150ft  \n",
    "4\" PVC - 1,300ft  \n",
    "  \n",
    "Miscellaneous:  \n",
    "#2/0 10' copper ground rod (or just 10' of 2/0 if it doesnt come as a ground rod)\n",
    "800 amp weatherhead 480/277volt 3ph 4wire & drop pole  \n",
    "20 amp GFI receptacle - 30  \n",
    "20 amp duplex receptacle - 20    \n",
    "GFI quadplex receptacle - 10  \n",
    "10' stick of 1\" galvanized rigid conduit - 12  \n",
    "steel to pvc connectors 1\" - 20  \n",
    "4\" PVC 90's - 10  \n",
    "3-way switch bank  "
   ]
  },
  {
   "cell_type": "code",
   "execution_count": 7,
   "metadata": {},
   "outputs": [],
   "source": [
    "from functions import* "
   ]
  },
  {
   "cell_type": "code",
   "execution_count": 8,
   "metadata": {},
   "outputs": [
    {
     "name": "stdout",
     "output_type": "stream",
     "text": [
      "Pole Height\n"
     ]
    },
    {
     "name": "stdin",
     "output_type": "stream",
     "text": [
      " 30\n"
     ]
    },
    {
     "name": "stdout",
     "output_type": "stream",
     "text": [
      "Number of Days\n"
     ]
    },
    {
     "name": "stdin",
     "output_type": "stream",
     "text": [
      " 3\n"
     ]
    },
    {
     "name": "stdout",
     "output_type": "stream",
     "text": [
      "Number of Poles\n"
     ]
    },
    {
     "name": "stdin",
     "output_type": "stream",
     "text": [
      " 6\n"
     ]
    },
    {
     "name": "stdout",
     "output_type": "stream",
     "text": [
      "Number of Lights\n"
     ]
    },
    {
     "name": "stdin",
     "output_type": "stream",
     "text": [
      " 6\n"
     ]
    },
    {
     "name": "stdout",
     "output_type": "stream",
     "text": [
      "Pier Base?\n"
     ]
    },
    {
     "name": "stdin",
     "output_type": "stream",
     "text": [
      " yes\n"
     ]
    },
    {
     "name": "stdout",
     "output_type": "stream",
     "text": [
      "Total install price for this project is 21851.0\n"
     ]
    }
   ],
   "source": [
    "ephesus_labor()"
   ]
  },
  {
   "cell_type": "code",
   "execution_count": 9,
   "metadata": {},
   "outputs": [
    {
     "name": "stdout",
     "output_type": "stream",
     "text": [
      "Labor Rate\n"
     ]
    },
    {
     "name": "stdin",
     "output_type": "stream",
     "text": [
      " 57.50\n"
     ]
    },
    {
     "name": "stdout",
     "output_type": "stream",
     "text": [
      "Number of men\n"
     ]
    },
    {
     "name": "stdin",
     "output_type": "stream",
     "text": [
      " 3\n"
     ]
    },
    {
     "name": "stdout",
     "output_type": "stream",
     "text": [
      "Number of days\n"
     ]
    },
    {
     "name": "stdin",
     "output_type": "stream",
     "text": [
      " 45\n"
     ]
    },
    {
     "name": "stdout",
     "output_type": "stream",
     "text": [
      "Overtime?\n"
     ]
    },
    {
     "name": "stdin",
     "output_type": "stream",
     "text": [
      " yes\n"
     ]
    },
    {
     "name": "stdout",
     "output_type": "stream",
     "text": [
      "Number of Overtime Days?\n"
     ]
    },
    {
     "name": "stdin",
     "output_type": "stream",
     "text": [
      " 5\n"
     ]
    },
    {
     "name": "stdout",
     "output_type": "stream",
     "text": [
      "Total labor price is: 90562.5\n"
     ]
    }
   ],
   "source": [
    "labor_calc()"
   ]
  },
  {
   "cell_type": "code",
   "execution_count": null,
   "metadata": {},
   "outputs": [],
   "source": []
  }
 ],
 "metadata": {
  "kernelspec": {
   "display_name": "Python 3",
   "language": "python",
   "name": "python3"
  },
  "language_info": {
   "codemirror_mode": {
    "name": "ipython",
    "version": 3
   },
   "file_extension": ".py",
   "mimetype": "text/x-python",
   "name": "python",
   "nbconvert_exporter": "python",
   "pygments_lexer": "ipython3",
   "version": "3.7.7"
  }
 },
 "nbformat": 4,
 "nbformat_minor": 4
}
