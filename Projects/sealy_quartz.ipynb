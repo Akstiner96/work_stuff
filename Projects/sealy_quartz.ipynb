{
 "cells": [
  {
   "cell_type": "markdown",
   "metadata": {},
   "source": [
    "# Sealy Quartz Manufacturing Plant"
   ]
  },
  {
   "cell_type": "markdown",
   "metadata": {},
   "source": [
    "## Proposal"
   ]
  },
  {
   "cell_type": "markdown",
   "metadata": {},
   "source": [
    "WE HEREBY PROPOSE TO FURNISH ALL OF THE LABOR AND MATERIALS REQUIRED TO COMPLETE THE FOLLOWING PROJECT IN ACCORDANCE WITH THE SCOPE AS LISTED BELOW: SEALY QUARTZ MANUFACTURING PLANT\n",
    "\n",
    "---\n",
    "\n",
    "**SCOPE**  \n",
    "* LAY 4 RUNS OF 6\" PIPE, ENCASED IN CONCRETE WHERE NECESSARY, FROM SERVICE POLES TO TRANSFORMERS 1 & 2\n",
    "* PROVIDE, BUILD, AND INSTALL GEAR PACKAGE AS SEEN ON THE ONE-LINE AND PANEL SCHEDULES, EXCLUDING TYPE 'C' AND 'CC' PANELS, DATED 7-31-20\n",
    "* PROVIDE AND INSTALL A 400KW, DIESEL FUEL, GENERATOR AS SEEN ON THE ONE LINE\n",
    "* ROUTING OF POWER BETWEEN TRANSFORMERS, SWITCHGEAR, PANELS, AND SUBPANELS IN ACCORDANCE WITH THE ONE LINE AND THEIR ESTIMATED LOCATION ON THE POWER SHEETS\n",
    "* UNDERGROUND ROUTING OF POWER TO SITE LIGHTING POLES/FIXTURES. LENGTH AND ROUTES ESTIMATED BASED ON LAYOUT PROVIDED ON SHEET E1.0\n",
    "* ROUTE POWER UNDERGROUND TO THE GUARDHOUSE USING SPECIFICATIONS STATED ON SHEET E1.1\n",
    "* PROVIDE AND INSTALL LIGHTING PACKAGE THAT ENCOMPASSES THE MAIN WAREHOUSE, GUARDHOUSE, PLANT SHOWROOM, AND THE FREESTANDING OFFICE\n",
    "* ROUGH-IN OF ALL BRANCH CIRCUITS ACCORDING TO THE PANEL SCHEDULES AND THE RESPECTIVE POWER SHEETS\n",
    "* PROVIDE BRANCH CIRCUITS FOR SECURITY GATE POWER\n",
    "* BRANCH CIRCUITS AND LIGHTING FOR THE WATER TREATMENT SYSTEM\n",
    "\n",
    "\n",
    "\n",
    "**DISCLAIMERS AND EXCLUSIONS**\n",
    "* NO SPECIFICATION PACKAGE WAS PROVIDED FOR DIVISION 26. BEFORE SIGNING OFF ON A CONTRACT A SCHEDULE OF VALUES WILL NEED TO BE APPROVED IN ORDER TO ENSURE THAT ALL MATERIAL PROVIDED IN THIS PRICE IS WHAT WILL BE USED ON THE PROJECT\n",
    "* TYPE 'C' AND 'CC' PANELS ARE ASSUMED TO BE PROVIDED BY OWNER\n",
    "* NO TELECOM ROUGH-IN OR TRIM IS INCLUDED IN THIS PRICE OUTSIDE OF THE 6 FLOOR COMBO RECEPTACLE BOXES IN THE FREE STANDING OFFICE\n",
    "* NO PIER BASES FOR SITE LIGHTING POLES ARE INCLUDED. ASSUMED TO BE DIRECT BURIAL.\n",
    "* ONLY BRANCH CIRCUITS ARE INCLUDED FOR ALL SECURITY AND MECHANICAL EQUIPMENT.\n",
    "* VE LIGHTING PACKAGE AVAILABLE UPON REQUEST\n",
    "* ALL BRANCH CIRCUITS THAT ARE LABELED AS EITHER 'MISC LOAD' OR A PIECE OF OPERATING MACHINERY ASSUMED TO BE 600FT IN LENGTH\n",
    "\n",
    "\n",
    "---\n",
    "TOTAL - \\\\$2,603,054.24"
   ]
  },
  {
   "cell_type": "markdown",
   "metadata": {},
   "source": [
    "## Notes"
   ]
  },
  {
   "cell_type": "markdown",
   "metadata": {},
   "source": [
    "* 90s for any underground piping inside and outside of building\n",
    "* couplings for every 90\n",
    "* "
   ]
  },
  {
   "cell_type": "markdown",
   "metadata": {},
   "source": [
    "### Pipe and Wire - Main Service"
   ]
  },
  {
   "cell_type": "code",
   "execution_count": 1,
   "metadata": {},
   "outputs": [],
   "source": [
    "## Main power service pole #1 (closer one) (2) 6\" schedule 80 pvc - concrete encased - wire provided by utility company\n",
    "main_service1 = 1015 + 30 + 5 + 10 #main run, up the service pole, ft underground, stub up to the xfmr\n",
    "## Main power service pole #2 (further one) (2) 6\" schedule 80 pvc - concrete encased - wire provided by utility company\n",
    "main_service2 = 1090 + 30 + 5 + 10 #main run, up the service pole, ft underground, stub up to the xfmr\n",
    "## xfmr #1 to switchboard MSBA 9 runs, 4#700KCM 1 #500 4\" C\n",
    "msba = 65\n",
    "## xfmr #2 to switchboard MSBB 9 runs, 4#700KCM 1 #500 4\" C\n",
    "msbb = 65"
   ]
  },
  {
   "cell_type": "markdown",
   "metadata": {},
   "source": [
    "### Main Switchboard MSBA"
   ]
  },
  {
   "cell_type": "code",
   "execution_count": 2,
   "metadata": {},
   "outputs": [
    {
     "ename": "SyntaxError",
     "evalue": "invalid syntax (<ipython-input-2-1271a920d2a0>, line 2)",
     "output_type": "error",
     "traceback": [
      "\u001b[1;36m  File \u001b[1;32m\"<ipython-input-2-1271a920d2a0>\"\u001b[1;36m, line \u001b[1;32m2\u001b[0m\n\u001b[1;33m    hs =\u001b[0m\n\u001b[1;37m         ^\u001b[0m\n\u001b[1;31mSyntaxError\u001b[0m\u001b[1;31m:\u001b[0m invalid syntax\n"
     ]
    }
   ],
   "source": [
    "# Panel HS 1 run - 4#4/0 1#4 - 3\"C\n",
    "hs = \n",
    "# Panel DPH 2 runs - 4#350 1#1 - 3.5\"C\n",
    "dph = \n",
    "# Panel DPHA 5 runs - 4#600 1#250 - 4\"C\n",
    "dpha = \n",
    "# Panel HPA 1 run - 4#600 1#3 - 4\"C\n",
    "hpa\n",
    "# Panels CC 1 run - 4#600 1#3 - 4\"C\n",
    "cc1 = \n",
    "cc2 = \n",
    "cc3 = \n",
    "cc4 = \n",
    "# Panel CC5 2 runs - 4#600 1#1/0 - 4\"C\n",
    "cc5 = "
   ]
  },
  {
   "cell_type": "markdown",
   "metadata": {},
   "source": [
    "### Main Switchboard MSBB"
   ]
  },
  {
   "cell_type": "code",
   "execution_count": null,
   "metadata": {},
   "outputs": [],
   "source": [
    "# Panel DPHB 5 runs - 4#600 1#250 - 4\"C\n",
    "dphb = \n",
    "# Panel HPB 1 run - 4#600 1#3 - 4\"C\n",
    "hpb = "
   ]
  },
  {
   "cell_type": "markdown",
   "metadata": {},
   "source": [
    "### Panel HS"
   ]
  },
  {
   "cell_type": "code",
   "execution_count": null,
   "metadata": {},
   "outputs": [],
   "source": [
    "# xfmr TLS - 3#4 #6 - 1.25\"C\n",
    "tls = \n",
    "#lighting x2 - 3#12 - .5\"C\n",
    "lighting1 = \n",
    "lighting2 = \n",
    "#hvac x2 - 4#8 #10 - 1\"C\n",
    "hvac1 = \n",
    "hvac2 = "
   ]
  },
  {
   "cell_type": "markdown",
   "metadata": {},
   "source": [
    "### Panel DPH"
   ]
  },
  {
   "cell_type": "code",
   "execution_count": null,
   "metadata": {},
   "outputs": [],
   "source": [
    "# 7 Cranes - 1 run - 5#12 - .5\"C\n",
    "crane1 = \n",
    "crane2 =\n",
    "crane3 = \n",
    "crane4 = \n",
    "crane5 = \n",
    "crane6 = \n",
    "crane7 = \n",
    "# 2 30hp air compressors 1 run - 4#8 - 1\"C\n",
    "comp1 = \n",
    "comp2 = \n",
    "# 1 40hp air compressor 1 run - 3#4 #8 - 1.25\"C\n",
    "comp3 = \n",
    "# 1 125hp air compressor 1 run - 3#3/0 #3 - 2\"C\n",
    "comp4 = "
   ]
  },
  {
   "cell_type": "markdown",
   "metadata": {},
   "source": [
    "### Panel DPHA"
   ]
  },
  {
   "cell_type": "code",
   "execution_count": null,
   "metadata": {},
   "outputs": [],
   "source": [
    "#water treatment system 1 - 1 run - 4#4 #8 - 1.5\"C\n",
    "wt1 = \n",
    "# water treatment system 2 - 1 run - 5#10 - .5\"C\n",
    "wt2 = \n",
    "# connection to panel EH - 2 runs - 4#350 #1 - 3.5\"C\n",
    "paneleh = \n",
    "# connection to panel OH - 1 run - 4#600 #3 - 4\"C\n",
    "paneloh = "
   ]
  },
  {
   "cell_type": "markdown",
   "metadata": {},
   "source": [
    "### Panel HPA"
   ]
  },
  {
   "cell_type": "code",
   "execution_count": null,
   "metadata": {},
   "outputs": [],
   "source": []
  },
  {
   "cell_type": "code",
   "execution_count": null,
   "metadata": {},
   "outputs": [],
   "source": []
  },
  {
   "cell_type": "markdown",
   "metadata": {},
   "source": [
    "#### Materials list"
   ]
  },
  {
   "cell_type": "markdown",
   "metadata": {},
   "source": [
    "6\" Pipe - 2 runs x2 - one at 1,050ft - one at 1,150ft  \n",
    "sixinch = 4400  \n",
    "\\\\$17,600\n",
    "\n",
    "4\" Pipe - msba, msbb, dpha, dphb, hpa, hpb, cc1-5, oh, c5, c9,  \n",
    "fourinch = 8600  \n",
    "\\\\$20,818.88\n",
    "\n",
    "3.5\" pipe - eh, dph  \n",
    "threehalf = 400  \n",
    "\\\\$891.28\n",
    "\n",
    "3\" pipe = hs, c3, el  \n",
    "threeinch = 3000  \n",
    "\\\\$5,266.80\n",
    "\n",
    "2.5\" pipe - lpa2, ls, hardening and heating of line(2runs)  \n",
    "twohalf = 2400   \n",
    "\\\\$3,449.52\n",
    "\n",
    "2\" pipe - 125hp air comp, rto system  \n",
    "twoinch = 700  \n",
    "\\\\$596.05\n",
    "\n",
    "1.5\" pipe - hpa2, water treatment, 2 items from cc4, one item from cc1, ohoe  \n",
    "onehalf = 4500  \n",
    "\\\\$3,073.50\n",
    "\n",
    "1.25\" pipe - lots of things   \n",
    "onequarter = 3000  \n",
    "\\\\$1,767\n",
    "\n",
    "1\" pipe  \n",
    "oneinch = 10280  \n",
    "\\\\$4,206.58\n",
    "\n",
    ".75\" pipe  \n",
    "threequarter = 1500  \n",
    "\\\\$1,003.65\n",
    "\n",
    ".5\" pipe  \n",
    "halfinch = 100000  \n",
    "\\\\$45,444.00\n",
    "\n",
    "\n",
    "\n",
    "Total - \\\\$104,117.26"
   ]
  },
  {
   "cell_type": "markdown",
   "metadata": {},
   "source": [
    "---"
   ]
  },
  {
   "cell_type": "markdown",
   "metadata": {},
   "source": [
    "number 12 wire  \n",
    "175,000ft  \n",
    "\\\\$19,106.50  \n",
    "\n",
    "number 10 wire   \n",
    "65,000ft  \n",
    "\\\\$10,852.40\n",
    "\n",
    "number 8 wire  \n",
    "35,000ft  \n",
    "\\\\$9,638.30\n",
    "\n",
    "number 6 wire  \n",
    "10,500ft  \n",
    "\\\\$4,448.64\n",
    "\n",
    "number 4 wire  \n",
    "4,800ft  \n",
    "\\\\$3,112.08\n",
    "\n",
    "number 3 wire  \n",
    "8,300  \n",
    "\\\\$8,300\n",
    "\n",
    "number 2 wire  \n",
    "200  \n",
    "\\\\$240\n",
    "\n",
    "number 1 wire  \n",
    "250  \n",
    "\\\\$375\n",
    "\n",
    "1/0 wire  \n",
    "5,200ft  \n",
    "\\\\$9,880\n",
    "\n",
    "3/0 wire  \n",
    "9,000ft  \n",
    "\\\\$25,650\n",
    "\n",
    "2/0 wire  \n",
    "750ft  \n",
    "\\\\$1,725\n",
    "\n",
    "4/0 wire  \n",
    "4,500  \n",
    "\\\\$16,650\n",
    "\n",
    "250kcmil  \n",
    "4,500ft  \n",
    "\\\\$18,900\n",
    "\n",
    "350 kcmil  \n",
    "5,000ft  \n",
    "\\\\$30,000\n",
    "\n",
    "400 kcmil  \n",
    "8,500ft  \n",
    "\\\\$57,800\n",
    "\n",
    "500 kcmil  \n",
    "4,200ft  \n",
    "\\\\$36,120\n",
    "\n",
    "600 kcmil  \n",
    "24,460ft  \n",
    "\\\\$264,168\n",
    "\n",
    "700 kcmil  \n",
    "7,200ft\n",
    "\\\\$82,800\n",
    "\n",
    "\n",
    "\n",
    "Total - \\\\$599,765.92"
   ]
  },
  {
   "cell_type": "markdown",
   "metadata": {},
   "source": [
    "## Pipe and wire total\n",
    "\\\\$703,883.18"
   ]
  },
  {
   "cell_type": "markdown",
   "metadata": {},
   "source": [
    "## Underground\n",
    "---\n",
    "#### Outside Underground\n",
    "6,275ft x \\\\$15 per foot  \n",
    "\\\\$94,125\n",
    "\n",
    "\n",
    "#### Inside Underground\n",
    "12,200ft x \\\\$10 per foot\n",
    "\\\\$122,000"
   ]
  },
  {
   "cell_type": "markdown",
   "metadata": {},
   "source": [
    "## Trim\n",
    "duplex receptacles - 225 \\\\$292.50  \n",
    "triplex receptacles - 6  \n",
    "quadplex receptacles - 4  \n",
    "floor recept & phone data combo - 6 - \\\\$810.96  \n",
    "switches - 50 - \\\\$72  \n",
    "\n",
    "jboxes - 775 - \\\\$1,534\n",
    "\n",
    "90s and couplings - \\\\$10,500"
   ]
  },
  {
   "cell_type": "markdown",
   "metadata": {},
   "source": [
    "## Material total\n",
    "\\\\$927,937.64s"
   ]
  },
  {
   "cell_type": "markdown",
   "metadata": {},
   "source": [
    "## Labor"
   ]
  },
  {
   "cell_type": "code",
   "execution_count": 1,
   "metadata": {},
   "outputs": [],
   "source": [
    "from functions import*"
   ]
  },
  {
   "cell_type": "code",
   "execution_count": 8,
   "metadata": {},
   "outputs": [
    {
     "name": "stdout",
     "output_type": "stream",
     "text": [
      "Labor Rate\n"
     ]
    },
    {
     "name": "stdin",
     "output_type": "stream",
     "text": [
      " 55.50\n"
     ]
    },
    {
     "name": "stdout",
     "output_type": "stream",
     "text": [
      "Number of men\n"
     ]
    },
    {
     "name": "stdin",
     "output_type": "stream",
     "text": [
      " 10\n"
     ]
    },
    {
     "name": "stdout",
     "output_type": "stream",
     "text": [
      "Number of days\n"
     ]
    },
    {
     "name": "stdin",
     "output_type": "stream",
     "text": [
      " 96\n"
     ]
    },
    {
     "name": "stdout",
     "output_type": "stream",
     "text": [
      "Overtime?\n"
     ]
    },
    {
     "name": "stdin",
     "output_type": "stream",
     "text": [
      " yes\n"
     ]
    },
    {
     "name": "stdout",
     "output_type": "stream",
     "text": [
      "Number of Overtime Days?\n"
     ]
    },
    {
     "name": "stdin",
     "output_type": "stream",
     "text": [
      " 8\n"
     ]
    },
    {
     "name": "stdout",
     "output_type": "stream",
     "text": [
      "Total labor price is: 599400.0\n"
     ]
    }
   ],
   "source": [
    "labor_calc()"
   ]
  },
  {
   "cell_type": "code",
   "execution_count": 9,
   "metadata": {},
   "outputs": [
    {
     "name": "stdout",
     "output_type": "stream",
     "text": [
      "Labor Rate\n"
     ]
    },
    {
     "name": "stdin",
     "output_type": "stream",
     "text": [
      " 55.50\n"
     ]
    },
    {
     "name": "stdout",
     "output_type": "stream",
     "text": [
      "Number of men\n"
     ]
    },
    {
     "name": "stdin",
     "output_type": "stream",
     "text": [
      " 4\n"
     ]
    },
    {
     "name": "stdout",
     "output_type": "stream",
     "text": [
      "Number of days\n"
     ]
    },
    {
     "name": "stdin",
     "output_type": "stream",
     "text": [
      " 96\n"
     ]
    },
    {
     "name": "stdout",
     "output_type": "stream",
     "text": [
      "Overtime?\n"
     ]
    },
    {
     "name": "stdin",
     "output_type": "stream",
     "text": [
      " yes\n"
     ]
    },
    {
     "name": "stdout",
     "output_type": "stream",
     "text": [
      "Number of Overtime Days?\n"
     ]
    },
    {
     "name": "stdin",
     "output_type": "stream",
     "text": [
      " 8\n"
     ]
    },
    {
     "name": "stdout",
     "output_type": "stream",
     "text": [
      "Total labor price is: 239760.0\n"
     ]
    }
   ],
   "source": [
    "labor_calc()"
   ]
  },
  {
   "cell_type": "markdown",
   "metadata": {},
   "source": [
    "machinery - \\\\$50,000\n",
    "storage - \\\\$3,000\n",
    "miscellaneous - \\\\$18,000"
   ]
  }
 ],
 "metadata": {
  "kernelspec": {
   "display_name": "Python 3",
   "language": "python",
   "name": "python3"
  },
  "language_info": {
   "codemirror_mode": {
    "name": "ipython",
    "version": 3
   },
   "file_extension": ".py",
   "mimetype": "text/x-python",
   "name": "python",
   "nbconvert_exporter": "python",
   "pygments_lexer": "ipython3",
   "version": "3.7.7"
  }
 },
 "nbformat": 4,
 "nbformat_minor": 4
}
