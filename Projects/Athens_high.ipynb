{
 "cells": [
  {
   "cell_type": "markdown",
   "metadata": {},
   "source": [
    "# Proposal: Athens Football Field"
   ]
  },
  {
   "cell_type": "markdown",
   "metadata": {},
   "source": [
    "We hereby propose to furnish all the labor and material required to complete the following project in accordance with the scope as listed below: Athens High School Football Field  \n",
    "\n",
    "**Scope**  \n",
    "* Removal of current light poles down below grade by 12\"  \n",
    "* Build and install (4) new direct embedded 80ft light poles and crossarms  \n",
    "* Install (64) Ephesus Lumasport 8 fixtures  \n",
    "* Install (2) Lumasport type 5 for security lighting along Owen St.  \n",
    "* Commission AirMesh Hub for lighting controls  \n",
    "* Provide and install surge protection to the main distribution panel  \n",
    "* Reconnect power to poles/lights  \n",
    "\n",
    "\n",
    "**Disclaimers**  \n",
    "* 10 year warranty on light fixtures provided through Ephesus  \n",
    "* Pricing is valid for 60 days from proposal date  \n",
    "* Lead times of 6-8 weeks  \n",
    "* Staging area must be within reasonable distance from work site.\n",
    "\n",
    "**Exclusions**\n",
    "* Removal of existing poles and fixtures from site is not included in proposal price.  \n",
    "* Removal of spoilage more than 5 miles off site.  \n",
    "* Starbrite Electric is not responsible for unforseen issues in project design or geological issues.  \n",
    "* All existing electrical circuits and panels assumed to be up to code. No new circuits are included in price.  \n",
    "\n",
    "\n",
    "**Total**  \n",
    "\\$290,740"
   ]
  },
  {
   "cell_type": "markdown",
   "metadata": {},
   "source": [
    "# Proposal: Athens Baseball Field\n",
    "\n",
    "We hereby propose to furnish all the labor and material required to complete the following project in accordance with the scope as listed below: Athens High School Baseball Field\n",
    "\n",
    "**Scope**  \n",
    "* Removal of current light poles down below grade by 12\"  \n",
    "* Build and install (6) new direct embedded 80ft light poles and crossarms  \n",
    "* Install (56) Ephesus Lumasport 8 fixtures    \n",
    "* Commission AirMesh Hub for lighting controls  \n",
    "* Provide and install surge protection to the main distribution panel  \n",
    "* Reconnect power to poles/lights \n",
    "\n",
    "\n",
    "**Disclaimers**  \n",
    "* 10 year warranty on light fixtures provided through Ephesus  \n",
    "* Pricing is valid for 60 days from proposal date  \n",
    "* Lead times of 6-8 weeks  \n",
    "* Staging area must be within reasonable distance from work site.\n",
    "\n",
    "**Exclusions**\n",
    "* Removal of existing poles and fixtures from site is not included in proposal price.  \n",
    "* Removal of spoilage more than 5 miles off site.  \n",
    "* Starbrite Electric is not responsible for unforseen issues in project design or geological issues.  \n",
    "* All existing electrical circuits and panels assumed to be up to code. No new circuits are included in price.  \n",
    "\n",
    "\n",
    "**Total**  \n",
    "\\$208,020"
   ]
  },
  {
   "cell_type": "markdown",
   "metadata": {},
   "source": [
    "# Proposal: Athens Softball Field  \n",
    "\n",
    "We hereby propose to furnish all the labor and material required to complete the following project in accordance with the scope as listed below: Athens High School Baseball Field\n",
    "\n",
    "**Scope**  \n",
    "* Removal of current light poles down below grade by 12\"  \n",
    "* Build and install (4) new direct embedded 80ft light poles and crossarms  \n",
    "* Install (22) Ephesus Lumasport 8 fixtures    \n",
    "* Commission AirMesh Hub for lighting controls  \n",
    "* Provide and install surge protection to the main distribution panel  \n",
    "* Reconnect power to poles/lights  \n",
    "\n",
    "**Disclaimers**  \n",
    "* 10 year warranty on light fixtures provided through Ephesus  \n",
    "* Pricing is valid for 60 days from proposal date  \n",
    "* Lead times of 6-8 weeks  \n",
    "* Staging area must be within reasonable distance from work site.\n",
    "\n",
    "**Exclusions**\n",
    "* Removal of existing poles and fixtures from site is not included in proposal price.  \n",
    "* Removal of spoilage more than 5 miles off site.  \n",
    "* Starbrite Electric is not responsible for unforseen issues in project design or geological issues.  \n",
    "* All existing electrical circuits and panels assumed to be up to code. No new circuits are included in price.  \n",
    "\n",
    "**Total**   \n",
    "\\$116,863"
   ]
  },
  {
   "cell_type": "code",
   "execution_count": 2,
   "metadata": {},
   "outputs": [],
   "source": [
    "from functions import*"
   ]
  },
  {
   "cell_type": "code",
   "execution_count": 3,
   "metadata": {},
   "outputs": [
    {
     "name": "stdout",
     "output_type": "stream",
     "text": [
      "Pole Height?\n"
     ]
    },
    {
     "name": "stdin",
     "output_type": "stream",
     "text": [
      " 80\n"
     ]
    },
    {
     "name": "stdout",
     "output_type": "stream",
     "text": [
      "Number of men on the job?\n"
     ]
    },
    {
     "name": "stdin",
     "output_type": "stream",
     "text": [
      " 5\n"
     ]
    },
    {
     "name": "stdout",
     "output_type": "stream",
     "text": [
      "Labor rate?\n"
     ]
    },
    {
     "name": "stdin",
     "output_type": "stream",
     "text": [
      " 67.50\n"
     ]
    },
    {
     "name": "stdout",
     "output_type": "stream",
     "text": [
      "Number of days?\n"
     ]
    },
    {
     "name": "stdin",
     "output_type": "stream",
     "text": [
      " 14\n"
     ]
    },
    {
     "name": "stdout",
     "output_type": "stream",
     "text": [
      "Number of Poles?\n"
     ]
    },
    {
     "name": "stdin",
     "output_type": "stream",
     "text": [
      " 14\n"
     ]
    },
    {
     "name": "stdout",
     "output_type": "stream",
     "text": [
      "Number of Lights?\n"
     ]
    },
    {
     "name": "stdin",
     "output_type": "stream",
     "text": [
      " 144\n"
     ]
    },
    {
     "name": "stdout",
     "output_type": "stream",
     "text": [
      "Pier Base?\n"
     ]
    },
    {
     "name": "stdin",
     "output_type": "stream",
     "text": [
      " yes\n"
     ]
    },
    {
     "name": "stdout",
     "output_type": "stream",
     "text": [
      "Will the piers be subbed out?\n"
     ]
    },
    {
     "name": "stdin",
     "output_type": "stream",
     "text": [
      " no\n"
     ]
    },
    {
     "name": "stdout",
     "output_type": "stream",
     "text": [
      "Total install price for this project is 98270.0\n"
     ]
    }
   ],
   "source": [
    "ephesus_labor()"
   ]
  },
  {
   "cell_type": "code",
   "execution_count": 4,
   "metadata": {},
   "outputs": [
    {
     "name": "stdout",
     "output_type": "stream",
     "text": [
      "Pole Height?\n"
     ]
    },
    {
     "name": "stdin",
     "output_type": "stream",
     "text": [
      " 80\n"
     ]
    },
    {
     "name": "stdout",
     "output_type": "stream",
     "text": [
      "Number of men on the job?\n"
     ]
    },
    {
     "name": "stdin",
     "output_type": "stream",
     "text": [
      " 4\n"
     ]
    },
    {
     "name": "stdout",
     "output_type": "stream",
     "text": [
      "Labor rate?\n"
     ]
    },
    {
     "name": "stdin",
     "output_type": "stream",
     "text": [
      " 67.50\n"
     ]
    },
    {
     "name": "stdout",
     "output_type": "stream",
     "text": [
      "Number of days?\n"
     ]
    },
    {
     "name": "stdin",
     "output_type": "stream",
     "text": [
      " 4\n"
     ]
    },
    {
     "name": "stdout",
     "output_type": "stream",
     "text": [
      "Number of Poles?\n"
     ]
    },
    {
     "name": "stdin",
     "output_type": "stream",
     "text": [
      " 4\n"
     ]
    },
    {
     "name": "stdout",
     "output_type": "stream",
     "text": [
      "Number of Lights?\n"
     ]
    },
    {
     "name": "stdin",
     "output_type": "stream",
     "text": [
      " 22\n"
     ]
    },
    {
     "name": "stdout",
     "output_type": "stream",
     "text": [
      "Pier Base?\n"
     ]
    },
    {
     "name": "stdin",
     "output_type": "stream",
     "text": [
      " yes\n"
     ]
    },
    {
     "name": "stdout",
     "output_type": "stream",
     "text": [
      "Will the piers be subbed out?\n"
     ]
    },
    {
     "name": "stdin",
     "output_type": "stream",
     "text": [
      " no\n"
     ]
    },
    {
     "name": "stdout",
     "output_type": "stream",
     "text": [
      "Total install price for this project is 24882.5\n"
     ]
    }
   ],
   "source": [
    "ephesus_labor()"
   ]
  },
  {
   "cell_type": "code",
   "execution_count": null,
   "metadata": {},
   "outputs": [],
   "source": []
  }
 ],
 "metadata": {
  "kernelspec": {
   "display_name": "Python 3",
   "language": "python",
   "name": "python3"
  },
  "language_info": {
   "codemirror_mode": {
    "name": "ipython",
    "version": 3
   },
   "file_extension": ".py",
   "mimetype": "text/x-python",
   "name": "python",
   "nbconvert_exporter": "python",
   "pygments_lexer": "ipython3",
   "version": "3.7.7"
  }
 },
 "nbformat": 4,
 "nbformat_minor": 4
}
