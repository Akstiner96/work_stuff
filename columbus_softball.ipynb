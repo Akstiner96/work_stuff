{
 "cells": [
  {
   "cell_type": "code",
   "execution_count": 1,
   "metadata": {},
   "outputs": [
    {
     "name": "stdout",
     "output_type": "stream",
     "text": [
      "Material cost with mark-up is 29878.506499999996\n"
     ]
    }
   ],
   "source": [
    "mat_cost = (8626.50+7230.91+10123.90)*1.15\n",
    "print(f\"Material cost with mark-up is {mat_cost}\")"
   ]
  },
  {
   "cell_type": "code",
   "execution_count": 2,
   "metadata": {},
   "outputs": [
    {
     "name": "stdout",
     "output_type": "stream",
     "text": [
      "Total underground length is 2487\n"
     ]
    }
   ],
   "source": [
    "underground = 253+190+161+50+338+85+(470*3)\n",
    "print(f\"Total underground length is {underground}\")"
   ]
  },
  {
   "cell_type": "code",
   "execution_count": 3,
   "metadata": {},
   "outputs": [
    {
     "name": "stdout",
     "output_type": "stream",
     "text": [
      "Total underground cost is 17409\n"
     ]
    }
   ],
   "source": [
    "underground_cost = underground*7\n",
    "print(f\"Total underground cost is {underground_cost}\")"
   ]
  },
  {
   "cell_type": "code",
   "execution_count": 4,
   "metadata": {},
   "outputs": [
    {
     "name": "stdout",
     "output_type": "stream",
     "text": [
      "Total labor hours are 480\n"
     ]
    }
   ],
   "source": [
    "labor_hours = (30*4)*4\n",
    "print(f\"Total labor hours are {labor_hours}\")"
   ]
  },
  {
   "cell_type": "code",
   "execution_count": 5,
   "metadata": {},
   "outputs": [
    {
     "name": "stdout",
     "output_type": "stream",
     "text": [
      "Labor hours = 3 guys for 1 month\n"
     ]
    }
   ],
   "source": [
    "print('Labor hours = 3 guys for 1 month')"
   ]
  },
  {
   "cell_type": "code",
   "execution_count": 6,
   "metadata": {},
   "outputs": [
    {
     "name": "stdout",
     "output_type": "stream",
     "text": [
      "Total labor cost at an hourly rate of $57.50 is: 27600.0 \n",
      "Total labor cost at an hourly rate of $67.50 is: 32400.0\n"
     ]
    }
   ],
   "source": [
    "labor_cost_cheap = labor_hours*57.50\n",
    "labor_cost_normal = labor_hours*67.50\n",
    "labor_cost = (\n",
    "    f\"Total labor cost at an hourly rate of $57.50 is: {labor_cost_cheap} \\n\" \n",
    "    f\"Total labor cost at an hourly rate of $67.50 is: {labor_cost_normal}\"\n",
    ")\n",
    "print(labor_cost)"
   ]
  },
  {
   "cell_type": "code",
   "execution_count": 7,
   "metadata": {},
   "outputs": [
    {
     "name": "stdout",
     "output_type": "stream",
     "text": [
      "Total with labor at $57.50 is: 74887.50649999999\n",
      "Total with labor at $67.50 is: 79687.50649999999\n"
     ]
    }
   ],
   "source": [
    "total_cheap = mat_cost+underground_cost+labor_cost_cheap\n",
    "print(f\"Total with labor at $57.50 is: {total_cheap}\")\n",
    "total_normal = total_cheap - labor_cost_cheap + labor_cost_normal\n",
    "print(f\"Total with labor at $67.50 is: {total_normal}\")"
   ]
  },
  {
   "cell_type": "code",
   "execution_count": 8,
   "metadata": {},
   "outputs": [],
   "source": [
    "import pandas as pd"
   ]
  },
  {
   "cell_type": "code",
   "execution_count": 14,
   "metadata": {},
   "outputs": [
    {
     "data": {
      "text/html": [
       "<div>\n",
       "<style scoped>\n",
       "    .dataframe tbody tr th:only-of-type {\n",
       "        vertical-align: middle;\n",
       "    }\n",
       "\n",
       "    .dataframe tbody tr th {\n",
       "        vertical-align: top;\n",
       "    }\n",
       "\n",
       "    .dataframe thead th {\n",
       "        text-align: right;\n",
       "    }\n",
       "</style>\n",
       "<table border=\"1\" class=\"dataframe\">\n",
       "  <thead>\n",
       "    <tr style=\"text-align: right;\">\n",
       "      <th></th>\n",
       "      <th>0</th>\n",
       "    </tr>\n",
       "  </thead>\n",
       "  <tbody>\n",
       "    <tr>\n",
       "      <th>Material Cost</th>\n",
       "      <td>29878.5065</td>\n",
       "    </tr>\n",
       "    <tr>\n",
       "      <th>Underground Cost</th>\n",
       "      <td>17409.0000</td>\n",
       "    </tr>\n",
       "    <tr>\n",
       "      <th>Labor Hours</th>\n",
       "      <td>480.0000</td>\n",
       "    </tr>\n",
       "    <tr>\n",
       "      <th>Labor at $57.50</th>\n",
       "      <td>27600.0000</td>\n",
       "    </tr>\n",
       "    <tr>\n",
       "      <th>Labor at $67.50</th>\n",
       "      <td>32400.0000</td>\n",
       "    </tr>\n",
       "    <tr>\n",
       "      <th>Total w/ labor at $57.50</th>\n",
       "      <td>74887.5065</td>\n",
       "    </tr>\n",
       "    <tr>\n",
       "      <th>Total w/ labor at $67.50</th>\n",
       "      <td>79687.5065</td>\n",
       "    </tr>\n",
       "  </tbody>\n",
       "</table>\n",
       "</div>"
      ],
      "text/plain": [
       "                                   0\n",
       "Material Cost             29878.5065\n",
       "Underground Cost          17409.0000\n",
       "Labor Hours                 480.0000\n",
       "Labor at $57.50           27600.0000\n",
       "Labor at $67.50           32400.0000\n",
       "Total w/ labor at $57.50  74887.5065\n",
       "Total w/ labor at $67.50  79687.5065"
      ]
     },
     "execution_count": 14,
     "metadata": {},
     "output_type": "execute_result"
    }
   ],
   "source": [
    "total = {\n",
    "    'Material Cost':mat_cost,\n",
    "    'Underground Cost':underground_cost,\n",
    "    'Labor Hours':labor_hours,\n",
    "    'Labor at $57.50':labor_cost_cheap,\n",
    "    'Labor at $67.50':labor_cost_normal,\n",
    "    'Total w/ labor at $57.50':total_cheap,\n",
    "    'Total w/ labor at $67.50':total_normal\n",
    "}\n",
    "total_df = pd.DataFrame.from_dict(data=total, orient='index')\n",
    "total_df"
   ]
  },
  {
   "cell_type": "code",
   "execution_count": null,
   "metadata": {},
   "outputs": [],
   "source": []
  }
 ],
 "metadata": {
  "kernelspec": {
   "display_name": "Python 3",
   "language": "python",
   "name": "python3"
  },
  "language_info": {
   "codemirror_mode": {
    "name": "ipython",
    "version": 3
   },
   "file_extension": ".py",
   "mimetype": "text/x-python",
   "name": "python",
   "nbconvert_exporter": "python",
   "pygments_lexer": "ipython3",
   "version": "3.7.6"
  }
 },
 "nbformat": 4,
 "nbformat_minor": 4
}
