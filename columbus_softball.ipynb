{
 "cells": [
  {
   "cell_type": "code",
   "execution_count": 3,
   "metadata": {
    "jupyter": {
     "source_hidden": true
    }
   },
   "outputs": [
    {
     "name": "stdout",
     "output_type": "stream",
     "text": [
      "Material cost with mark-up is 31177.571999999996\n"
     ]
    }
   ],
   "source": [
    "mat_cost = (8626.50+7230.91+10123.90)*1.2\n",
    "print(f\"Material cost with mark-up is {mat_cost}\")"
   ]
  },
  {
   "cell_type": "code",
   "execution_count": 4,
   "metadata": {
    "jupyter": {
     "source_hidden": true
    }
   },
   "outputs": [
    {
     "name": "stdout",
     "output_type": "stream",
     "text": [
      "Total underground length is 2487\n"
     ]
    }
   ],
   "source": [
    "underground = 253+190+161+50+338+85+(470*3)\n",
    "print(f\"Total underground length is {underground}\")"
   ]
  },
  {
   "cell_type": "code",
   "execution_count": 6,
   "metadata": {
    "jupyter": {
     "source_hidden": true
    }
   },
   "outputs": [
    {
     "name": "stdout",
     "output_type": "stream",
     "text": [
      "Total underground cost is 29844\n"
     ]
    }
   ],
   "source": [
    "underground_cost = underground*12\n",
    "print(f\"Total underground cost is {underground_cost}\")"
   ]
  },
  {
   "cell_type": "code",
   "execution_count": 8,
   "metadata": {
    "jupyter": {
     "source_hidden": true
    }
   },
   "outputs": [
    {
     "name": "stdout",
     "output_type": "stream",
     "text": [
      "Total labor hours are 480\n"
     ]
    }
   ],
   "source": [
    "labor_hours = (30*4)*4\n",
    "print(f\"Total labor hours are {labor_hours}\")"
   ]
  },
  {
   "cell_type": "code",
   "execution_count": 33,
   "metadata": {
    "jupyter": {
     "source_hidden": true
    }
   },
   "outputs": [
    {
     "name": "stdout",
     "output_type": "stream",
     "text": [
      "Labor hours = 3 guys for 1 month\n"
     ]
    }
   ],
   "source": [
    "print('Labor hours = 3 guys for 1 month')"
   ]
  },
  {
   "cell_type": "code",
   "execution_count": 32,
   "metadata": {
    "jupyter": {
     "source_hidden": true
    }
   },
   "outputs": [
    {
     "name": "stdout",
     "output_type": "stream",
     "text": [
      "Total labor cost at an hourly rate of $57.50 is: 27600.0 \n",
      "Total labor cost at an hourly rate of $67.50 is: 32400.0\n"
     ]
    }
   ],
   "source": [
    "labor_cost_cheap = labor_hours*57.50\n",
    "labor_cost_normal = labor_hours*67.50\n",
    "labor_cost = (\n",
    "    f\"Total labor cost at an hourly rate of $57.50 is: {labor_cost_cheap} \\n\" \n",
    "    f\"Total labor cost at an hourly rate of $67.50 is: {labor_cost_normal}\"\n",
    ")\n",
    "print(labor_cost)"
   ]
  },
  {
   "cell_type": "code",
   "execution_count": 34,
   "metadata": {
    "jupyter": {
     "source_hidden": true
    }
   },
   "outputs": [
    {
     "name": "stdout",
     "output_type": "stream",
     "text": [
      "Total with labor at $57.50 is: 88621.572\n",
      "Total with labor at $67.50 is: 93421.572\n"
     ]
    }
   ],
   "source": [
    "total_cheap = mat_cost+underground_cost+labor_cost_cheap\n",
    "print(f\"Total with labor at $57.50 is: {total_cheap}\")\n",
    "total_normal = total_cheap - labor_cost_cheap + labor_cost_normal\n",
    "print(f\"Total with labor at $67.50 is: {total_normal}\")"
   ]
  },
  {
   "cell_type": "code",
   "execution_count": null,
   "metadata": {
    "jupyter": {
     "source_hidden": true
    }
   },
   "outputs": [],
   "source": []
  }
 ],
 "metadata": {
  "kernelspec": {
   "display_name": "Python 3",
   "language": "python",
   "name": "python3"
  },
  "language_info": {
   "codemirror_mode": {
    "name": "ipython",
    "version": 3
   },
   "file_extension": ".py",
   "mimetype": "text/x-python",
   "name": "python",
   "nbconvert_exporter": "python",
   "pygments_lexer": "ipython3",
   "version": "3.7.6"
  }
 },
 "nbformat": 4,
 "nbformat_minor": 4
}
